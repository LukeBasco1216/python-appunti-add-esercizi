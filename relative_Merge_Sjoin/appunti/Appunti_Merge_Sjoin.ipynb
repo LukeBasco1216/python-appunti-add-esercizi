{
  "nbformat": 4,
  "nbformat_minor": 0,
  "metadata": {
    "colab": {
      "name": "Appunti_Merge_Sjoin.ipynb",
      "provenance": [],
      "collapsed_sections": []
    },
    "kernelspec": {
      "name": "python3",
      "display_name": "Python 3"
    },
    "language_info": {
      "name": "python"
    }
  },
  "cells": [
    {
      "cell_type": "code",
      "execution_count": null,
      "metadata": {
        "id": "yEieyhdB9gjD"
      },
      "outputs": [],
      "source": [
        "#per installare\n",
        "!pip install geopandas\n",
        "\n",
        "import pandas as pd\n",
        "import geopandas as geopd\n",
        "\n",
        "\n",
        "\n",
        "\n",
        "#    COME LEGGERE UN FILE EXCEL E UN SUO FOGLIO SPECIFICO\n",
        "brands = pd.read_excel(\"https://github.com/wtitze/3E/blob/main/BikeStores.xls?raw=true\", sheet_name=\"brands\")\n",
        "\n",
        "\n",
        "\n",
        "\n",
        "#      come convertire una colonna da int64 a object(str)\n",
        "stradario[\"CODICE_VIA\"] = stradario[\"CODICE_VIA\"].astype(str)\n",
        "\n",
        "#    .dtypes  -  vedere che tipo di colonne sono, se sono colonne int, object, float, ecc...\n",
        "area_sosta.dtypes\n",
        "\n",
        "\n",
        "\n",
        "\n",
        "#   append - modo per unire due dataframe che presentano la stessa struttura\n",
        "df_multe_complessivo = df_multe.append(df_multe1)\n",
        "#   saranno in disordine qundi devi fare resent index\n",
        "df_multe_complessivo = df_multe.append(df_multe1).reset_index()\n",
        "#   oppure farlo in questo modo\n",
        "df_multe_complessivo = df_multe.append(df_multe1, ignore_index=True)\n",
        "\n",
        "\n",
        "#   simile ad append\n",
        "df_multe_complessivo = pd.concat([df_multe, df_multe1])\n",
        "\n",
        "\n",
        "#   merge how=\"left\", i valori nan sara nel df a destra\n",
        "df_proprietari_multe = pd.merge(df_prop, df_multe_complessivo, how=\"left\", on=[\"targa\"])\n",
        "\n",
        "\n",
        "#   merge how=\"right\", i valori nan sara nel df a sinistra\n",
        "df_proprietari_multe = pd.merge(df_prop, df_multe_complessivo, how=\"right\", on=[\"targa\"])\n",
        "\n",
        "\n",
        "#   merge how=\"outer\", i valori nan sara in tutti e due df\n",
        "df_proprietari_multe = pd.merge(df_prop, df_multe_complessivo, how=\"outer\", on=[\"targa\"])\n",
        "\n",
        "\n",
        "#   merge how=\"outer\", tutti i row che hanno valori nan saranno eliminati\n",
        "df_proprietari_multe = pd.merge(df_prop, df_multe_complessivo, how=\"inner\", on=[\"targa\"])\n",
        "\n",
        "\n"
      ]
    },
    {
      "cell_type": "code",
      "source": [
        "#   NEL LOCATE PUOI UNIRE UN GROUPBY ESEMPIO:\n",
        "df_prop_mult_infra[df_prop_mult_infra[\"nome_y\"] == \"eccesso di velocità\"].groupby([\"nome_x\", \"cognome\"]).sum()[[\"importo massimo\"]] #serve per visualizzare il prezzo massimo\n",
        "\n",
        "\n"
      ],
      "metadata": {
        "id": "HF_lRn47Aot1"
      },
      "execution_count": null,
      "outputs": []
    },
    {
      "cell_type": "code",
      "source": [
        "#   per localizzare i row che hanno valori nan\n",
        "df = df[df[\"la_colonna_che_vuoi_controllare\"].isnull() == True][[\"la colonna che ti fara vedere\"]]\n",
        "\n"
      ],
      "metadata": {
        "id": "Y5ThdwOcAqL8"
      },
      "execution_count": null,
      "outputs": []
    },
    {
      "cell_type": "markdown",
      "source": [
        "**Compito_Merge/pandas_1.ipynb**"
      ],
      "metadata": {
        "id": "ZileenEnBwva"
      }
    },
    {
      "cell_type": "code",
      "source": [
        "#   Visualizzare il nome della provincia e il nome della regione\n",
        "df_prov_reg22 = pd.merge(province, regioni, how=\"inner\", on=[\"COD_REG\"])[[\"DEN_UTS\", \"DEN_REG\"]]\n",
        "df_prov_reg22\n",
        "\n"
      ],
      "metadata": {
        "id": "NSMuxlv2BHkz"
      },
      "execution_count": null,
      "outputs": []
    },
    {
      "cell_type": "code",
      "source": [
        "#   Visualizzare il nome della provincia e il nome del comune\n",
        "df_prov_comune22 = pd.merge(province, comuni, how=\"right\", on=\"COD_PROV\")[[\"DEN_UTS\", \"COMUNE\"]]\n",
        "df_prov_comune22\n",
        "\n"
      ],
      "metadata": {
        "id": "izLtwTouB7NE"
      },
      "execution_count": null,
      "outputs": []
    },
    {
      "cell_type": "code",
      "source": [
        "#   Visualizzare il nome del comune e il nome della regione\n",
        "df_com_regC22 = pd.merge(comuni, regioni, how=\"outer\", on=\"COD_REG\")[[\"COMUNE\", \"DEN_REG\"]]\n",
        "df_com_regC22\n",
        "\n"
      ],
      "metadata": {
        "id": "3euwlNN1CCfc"
      },
      "execution_count": null,
      "outputs": []
    },
    {
      "cell_type": "code",
      "source": [
        "#   vedere numero di comuni per ogni provincia\n",
        "df_prov_comune3 = pd.merge(province, comuni, how =\"outer\", on=\"COD_PROV\")\n",
        "df_prov_comune3\n",
        "num_comuni_in_province = df_prov_comune3.groupby(\"DEN_UTS\", as_index = False)[\"COMUNE\"].count()\n",
        "num_comuni_in_province\n",
        "\n"
      ],
      "metadata": {
        "id": "qpiBskjbCNa8"
      },
      "execution_count": null,
      "outputs": []
    },
    {
      "cell_type": "markdown",
      "source": [
        "**da QueryGeoSpaziali.ipynb**"
      ],
      "metadata": {
        "id": "YAF2ykpJDA7B"
      }
    },
    {
      "cell_type": "code",
      "source": [
        "#       SI USA QUANDO 2 GeoDF NON HANNO COLONNE UGUALI O SIMILI MA HANNO LA LORO GEOMETRIA\n",
        "\n",
        "\n",
        "\n",
        "#   fa un df in cui mette i comuni all'interno(within) delle province e mettere sempre il df che sara dentro in un'altro df(comuni2 in province2)\n",
        "#   how funziona solo con inner in questo tipo di merge\n",
        "com_prov = geopandas.sjoin(comuni2, province2, op=\"within\", how=\"left\")\n",
        "com_prov\n",
        "\n",
        "\n",
        "#    sjoin si usa quand dobbiamo unire 2 geodataframe\n",
        "prov_reg = geopandas.sjoin(province2, regioni2, op=\"within\", how=\"left\")\n",
        "prov_reg\n",
        "\n",
        "\n",
        "\n",
        "\n",
        "\n",
        "\n",
        "\n",
        "#   trova per ogni comune la provincia in cui si trova quel comune\n",
        "#   effettuando una join spaziale: prende la geometria del comune\n",
        "#   e cerca in quale geometria della provincia si trova.\n",
        "#   restituisce un geodataframe\n",
        "com_prov = geopandas.sjoin(comuni2, province2, op=\"within\", how=\"left\")\n",
        "com_prov\n",
        "\n",
        "#   ragruppa i comuni di ogni provincia e li conta.\n",
        "#   restituisce un dataframe (differenza tra geoDF e DF, è che il geoDF contiene una geometria)\n",
        "num_com_in_prov = com_prov.groupby(\"DEN_UTS\", as_index = False)[\"COMUNE\"].count()\n",
        "num_com_in_prov\n",
        "\n",
        "#   unisce il geoDF delle province con il DF che contiene il num\n",
        "#   di comuni per ogni provincia:\n",
        "#   restituisce un geoDF che è uguale a province2 ma con una colonna in piu\n",
        "#   che è il num di com in ogni provincia\n",
        "com_province = pd.merge(province2, num_com_in_prov, how=\"left\", on=\"DEN_UTS\")\n",
        "com_province\n",
        "\n",
        "#   visualizza le province colorate in base al numero di comuni(column=\"COMUNE)\n",
        "com_province.plot(legend = True, column=\"COMUNE\")"
      ],
      "metadata": {
        "id": "PoIZMLB_CUzU"
      },
      "execution_count": null,
      "outputs": []
    },
    {
      "cell_type": "markdown",
      "source": [
        "**da LB_Geopandas - esercizio riepilogativo in preparazione alla verifica.ipynb**"
      ],
      "metadata": {
        "id": "oTOlRX4RD6JU"
      }
    },
    {
      "cell_type": "code",
      "source": [
        "# import modulo os e installazione di rtree e altro per far funzionare l'sjoin\n",
        "import os\n",
        "!pip install rtree\n",
        "!curl -L http://download.osgeo.org/libspatialindex/spatialindex-src-1.8.5.tar.gz | tar xz\n",
        "os.chdir(\"/content/spatialindex-src-1.8.5\")\n",
        "!./configure\n",
        "!make\n",
        "!make install\n",
        "!ldconfig\n",
        "\n",
        "\n",
        "import pandas as pd\n",
        "!pip install geopandas\n",
        "import geopandas\n",
        "!pip install contextily\n",
        "import contextily as ctx\n",
        "\n",
        "\n",
        "\n",
        "\n",
        "\n",
        "\n",
        "\n",
        "#  ~ è il simbolo per la negazione della condizione, per esempio si usa per trovare quartieri fuori una regione invece di dentro\n",
        "\n",
        "#   ~ milano[\"NIL\"].isin(quartieri_sosta[\"NIL\"])    ------>    serve per controllare i nomi dei quartieri di quartieri_sosta_tutto[\"NIL\"] se è dentro milano[\"NIL\"], preo riporta quelli non sono dentro (~)\n",
        "nomi_quartieri_no_aree = milano[~ milano[\"NIL\"].isin(quartieri_sosta_tutto[\"NIL\"])]\n",
        "nomi_quartieri_no_aree[[\"NIL\"]]\n",
        "\n",
        "\n"
      ],
      "metadata": {
        "id": "O8IkPx2hD9O8"
      },
      "execution_count": null,
      "outputs": []
    },
    {
      "cell_type": "code",
      "source": [
        "                         per vedere se il valore inserito è nella colonna id_via\n",
        "\n",
        "\n",
        "# input\n",
        "via = str(input(\"inserire id della via: \"))\n",
        "#  individuazione dell'area sosta del id della via inserita\n",
        "area_sosta[area_sosta.id_via == via]"
      ],
      "metadata": {
        "id": "lsbFpOrdGnPl"
      },
      "execution_count": null,
      "outputs": []
    }
  ]
}