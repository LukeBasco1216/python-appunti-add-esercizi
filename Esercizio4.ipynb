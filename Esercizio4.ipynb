{
  "nbformat": 4,
  "nbformat_minor": 0,
  "metadata": {
    "colab": {
      "name": "Esercizio4.ipynb",
      "provenance": [],
      "collapsed_sections": []
    },
    "kernelspec": {
      "name": "python3",
      "display_name": "Python 3"
    },
    "language_info": {
      "name": "python"
    }
  },
  "cells": [
    {
      "cell_type": "markdown",
      "metadata": {
        "id": "iFERZvWmrvmH"
      },
      "source": [
        "1. scrivere una funzione chiamata media che dati due numeri restituisca la media. Utilizzare poi la funzione in un programma che acquisisca dall'utente due numeri e calcoli la media\n"
      ]
    },
    {
      "cell_type": "code",
      "metadata": {
        "colab": {
          "base_uri": "https://localhost:8080/"
        },
        "id": "90nWKFB4rrzE",
        "outputId": "5f036714-9fb8-46c1-afdf-0f141dadd0b2"
      },
      "source": [
        "def media():\n",
        "  x = int(input())\n",
        "  y = int(input())\n",
        "  lamedia = (x + y) / 2\n",
        "  print(lamedia)\n",
        "media()"
      ],
      "execution_count": null,
      "outputs": [
        {
          "output_type": "stream",
          "name": "stdout",
          "text": [
            "4\n",
            "2\n",
            "3.0\n"
          ]
        }
      ]
    },
    {
      "cell_type": "markdown",
      "metadata": {
        "id": "52yLwSw3seRY"
      },
      "source": [
        "2. scrivere una funzione chiamata piuCorta che date due liste restituisca la lista con meno elementi. Utilizzare poi la funzione in un programma che acquisisca dall'utente due liste e visualizzi gli elementi della lista più corta."
      ]
    },
    {
      "cell_type": "code",
      "metadata": {
        "colab": {
          "base_uri": "https://localhost:8080/"
        },
        "id": "wBgvx32xsg7v",
        "outputId": "d46c4841-898f-4cfd-cbf3-79cf9b527162"
      },
      "source": [
        "list1 = []\n",
        "list2 = []\n",
        "\n",
        "def piuCorta(list1,list2):\n",
        "  \n",
        "  \n",
        "  if len(list1) < len(list2):\n",
        "    print(\"List 1 ha meno elementi, e sono: \")\n",
        "    print(list1)\n",
        "  else:\n",
        "    print(\"list 2 ha meno elementi, e sono:def\")\n",
        "    print(list2)\n",
        "\n",
        "numelementi1 = int(input(\"inserire numero totale di elementi: \"))\n",
        "for i in range(0, numelementi1):\n",
        "  elementi = str(input())\n",
        "  list1.append(elementi)\n",
        "\n",
        "numelementi2 = int(input(\"inserire numero totale di elementi: \"))\n",
        "for i in range(0, numelementi2):\n",
        "  elementi = str(input())\n",
        "  list2.append(elementi)\n",
        "\n",
        "piuCorta(list1,list2)"
      ],
      "execution_count": null,
      "outputs": [
        {
          "output_type": "stream",
          "name": "stdout",
          "text": [
            "inserire numero totale di elementi: 5\n",
            "\n",
            "e\n",
            "d\n",
            "f\n",
            "r\n",
            "inserire numero totale di elementi: 3\n",
            "d\n",
            "g\n",
            "e\n",
            "list 2 ha meno elementi, e sono:\n",
            "['d', 'g', 'e']\n"
          ]
        }
      ]
    },
    {
      "cell_type": "markdown",
      "metadata": {
        "id": "GzWkEHlytLPv"
      },
      "source": [
        "3. scrivere una funzione chiamata costruisciLista che dati due numeri interi restituisca la lista formata da tutti i numeri interi compresi tra i due numeri dati. Utilizzare poi la funzione in un programma che acquisisca dall'utente due numeri e visualizzi la lista formata da tutti i numeri interi compresi tra i due numeri dati ma a partire dal più grande fino al più piccolo."
      ]
    },
    {
      "cell_type": "code",
      "metadata": {
        "colab": {
          "base_uri": "https://localhost:8080/"
        },
        "id": "pazjRXhwtNGZ",
        "outputId": "f3e3fae5-0ee3-4360-a6b1-44192a61da91"
      },
      "source": [
        "def costruisciLista():\n",
        "  if num1>num2:\n",
        "    print(\"il primo numero deve essere piu grande del secondo numero\")\n",
        "  else:\n",
        "    lista = list(range(num1 + 1, num2))\n",
        "    print(lista)\n",
        "    print(sorted(lista,reverse=True)) \n",
        "\n",
        "num1 = int(input(\"inserisci il primo numero: \"))\n",
        "num2 = int(input(\"inserisci il secondo numero: \"))\n",
        "costruisciLista()\n",
        "\n"
      ],
      "execution_count": null,
      "outputs": [
        {
          "output_type": "stream",
          "name": "stdout",
          "text": [
            "inserisci il primo numero: 2\n",
            "inserisci il secondo numero: 10\n",
            "[3, 4, 5, 6, 7, 8, 9]\n",
            "[9, 8, 7, 6, 5, 4, 3]\n"
          ]
        }
      ]
    },
    {
      "cell_type": "markdown",
      "metadata": {
        "id": "O7b6qgoX40lT"
      },
      "source": [
        "4. scrivere una funzione chiamata valoreAssoluto che dato un numero restituisca il suo valore assoluto. Utilizzare poi questa funzione per determinare il valore assoluto degli elementi di una lista inserita dall'utente."
      ]
    },
    {
      "cell_type": "code",
      "metadata": {
        "colab": {
          "base_uri": "https://localhost:8080/"
        },
        "id": "NAtmgcjeAtPi",
        "outputId": "425b5b7b-e818-48c2-cf6f-119c42cf3b45"
      },
      "source": [
        "arr = input(\"inserisci dei numeri:\").split(',')\n",
        "\n",
        "def valore_assoluto(randomthinginsidesoitwillwork):\n",
        "  return abs(randomthinginsidesoitwillwork)\n",
        "\n",
        "print([valore_assoluto(float(i)) for i in arr])"
      ],
      "execution_count": null,
      "outputs": [
        {
          "output_type": "stream",
          "name": "stdout",
          "text": [
            "inserisci dei numeri:-2,-2.2\n",
            "[2.0, 2.2]\n"
          ]
        }
      ]
    },
    {
      "cell_type": "markdown",
      "metadata": {
        "id": "3caqPxoBCsgD"
      },
      "source": [
        "5. scrivere una funzione chiamata scambia che data una lista scambi il primo elemento con l'ultimo, il secondo con il penultimo e così via. Utilizzare poi la funzione in un programma che acquisisca dall'utente una lista di 10 elementi e li visualizzi scambiati."
      ]
    },
    {
      "cell_type": "code",
      "metadata": {
        "id": "H7StYENDCu3S"
      },
      "source": [
        "def scambia():\n",
        "  \n",
        "\n",
        "#########  INCOMPLETO #########\n",
        "\n",
        "\n"
      ],
      "execution_count": null,
      "outputs": []
    },
    {
      "cell_type": "markdown",
      "metadata": {
        "id": "DmfZ7nxOtPIJ"
      },
      "source": [
        "6. scrivere una funzione lambda che dati due numeri calcoli la loro somma. Utilizzare la funzione in un programma che chieda all'utente due numeri interi e visualizzi la loro somma."
      ]
    },
    {
      "cell_type": "code",
      "metadata": {
        "colab": {
          "base_uri": "https://localhost:8080/"
        },
        "id": "kbNJ3ZYHtSJ5",
        "outputId": "e775a44c-a528-4545-a084-c291624a17f0"
      },
      "source": [
        "\n",
        "primonumero = int(input(\"insert first number: \"))\n",
        "secondonumero = int(input(\"insert second number: \"))\n",
        "\n",
        "somma = lambda primonumero, secondonumero: primonumero + secondonumero\n",
        "\n",
        "result = somma(primonumero, secondonumero)\n",
        "print(\"La somma è:\", result)\n",
        "  \n"
      ],
      "execution_count": null,
      "outputs": [
        {
          "output_type": "stream",
          "name": "stdout",
          "text": [
            "insert first number: 2\n",
            "insert second number: 3\n",
            "La somma è: 5\n"
          ]
        }
      ]
    },
    {
      "cell_type": "markdown",
      "metadata": {
        "id": "L5vOi7bbw-Zh"
      },
      "source": [
        "7. scrivere un programma che utilizzi una lambda function per aumentare di 10 unità tutti gli elementi di una lista di interi inserita dall'utente."
      ]
    },
    {
      "cell_type": "code",
      "metadata": {
        "colab": {
          "base_uri": "https://localhost:8080/"
        },
        "id": "G0wwZIlYMCZ_",
        "outputId": "0e40a9ad-292c-4251-a7db-98ec89dd6df2"
      },
      "source": [
        "listaelementi = []\n",
        "n = int(input(\"Inserisci il numero di elementi: \"))\n",
        "\n",
        "for i in range(0, n):\n",
        "    ele = int(input())\n",
        "    listaelementi.append(ele)\n",
        "\n",
        "lista =list(map(lambda x: x + 10, listaelementi)) # consente di elaborare e trasformare tutti gli elementi in una lista iterabile senza utilizzare un ciclo for \n",
        "print(lista)"
      ],
      "execution_count": 34,
      "outputs": [
        {
          "output_type": "stream",
          "name": "stdout",
          "text": [
            "Inserisci il numero di elementi: 2\n",
            "5\n",
            "4\n",
            "[15, 14]\n"
          ]
        }
      ]
    },
    {
      "cell_type": "markdown",
      "metadata": {
        "id": "o7H16Ae_Shqo"
      },
      "source": [
        "8. scrivere una funzione lambda che sostituisca il valore 0 se il parametro è negativo, il valore del parametro se è positivo. Utilizzare poi la funzione in un programma che chieda all'utente i 10 elementi di una lista e visualizzi la lista con il valore 0 al posto dei numeri negativi."
      ]
    },
    {
      "cell_type": "code",
      "metadata": {
        "id": "PF9bs48SVpza"
      },
      "source": [
        "# NON SONO CAPACE"
      ],
      "execution_count": null,
      "outputs": []
    },
    {
      "cell_type": "markdown",
      "metadata": {
        "id": "pTAqqcvFVsvx"
      },
      "source": [
        "9. scrivere un programma che calcoli il fattoriale di un numero utilizzando una lambda function. Provare a realizzare una lambda function ricorsiva (per la ricorsione, google it...)"
      ]
    },
    {
      "cell_type": "code",
      "metadata": {
        "id": "0G4LxTBqVvJA"
      },
      "source": [
        "# NEANCHE QESTO RIESCO A FARE"
      ],
      "execution_count": null,
      "outputs": []
    }
  ]
}