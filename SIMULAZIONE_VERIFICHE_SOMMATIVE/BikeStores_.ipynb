{
  "nbformat": 4,
  "nbformat_minor": 0,
  "metadata": {
    "colab": {
      "name": "BikeStores .ipynb",
      "provenance": [],
      "collapsed_sections": []
    },
    "kernelspec": {
      "name": "python3",
      "display_name": "Python 3"
    },
    "language_info": {
      "name": "python"
    }
  },
  "cells": [
    {
      "cell_type": "code",
      "execution_count": 1,
      "metadata": {
        "id": "gm2NAOUa1L1Z"
      },
      "outputs": [],
      "source": [
        "import pandas as pd"
      ]
    },
    {
      "cell_type": "code",
      "source": [
        "df = pd.read_excel(\"https://github.com/wtitze/3E/blob/main/BikeStores.xls?raw=true\", sheet_name=\"products\")\n",
        "df"
      ],
      "metadata": {
        "colab": {
          "base_uri": "https://localhost:8080/",
          "height": 423
        },
        "id": "Fo65nzHj1x-O",
        "outputId": "6cc5f4c0-62df-4fdf-ff92-b4746322815d"
      },
      "execution_count": 2,
      "outputs": [
        {
          "output_type": "execute_result",
          "data": {
            "text/html": [
              "<div>\n",
              "<style scoped>\n",
              "    .dataframe tbody tr th:only-of-type {\n",
              "        vertical-align: middle;\n",
              "    }\n",
              "\n",
              "    .dataframe tbody tr th {\n",
              "        vertical-align: top;\n",
              "    }\n",
              "\n",
              "    .dataframe thead th {\n",
              "        text-align: right;\n",
              "    }\n",
              "</style>\n",
              "<table border=\"1\" class=\"dataframe\">\n",
              "  <thead>\n",
              "    <tr style=\"text-align: right;\">\n",
              "      <th></th>\n",
              "      <th>product_id</th>\n",
              "      <th>product_name</th>\n",
              "      <th>brand_id</th>\n",
              "      <th>category_id</th>\n",
              "      <th>model_year</th>\n",
              "      <th>list_price</th>\n",
              "    </tr>\n",
              "  </thead>\n",
              "  <tbody>\n",
              "    <tr>\n",
              "      <th>0</th>\n",
              "      <td>1</td>\n",
              "      <td>Trek 820 - 2016</td>\n",
              "      <td>9</td>\n",
              "      <td>6</td>\n",
              "      <td>2016.0</td>\n",
              "      <td>379.99</td>\n",
              "    </tr>\n",
              "    <tr>\n",
              "      <th>1</th>\n",
              "      <td>2</td>\n",
              "      <td>Ritchey Timberwolf Frameset - 2016</td>\n",
              "      <td>5</td>\n",
              "      <td>6</td>\n",
              "      <td>2016.0</td>\n",
              "      <td>749.99</td>\n",
              "    </tr>\n",
              "    <tr>\n",
              "      <th>2</th>\n",
              "      <td>3</td>\n",
              "      <td>Surly Wednesday Frameset - 2016</td>\n",
              "      <td>8</td>\n",
              "      <td>6</td>\n",
              "      <td>2016.0</td>\n",
              "      <td>999.99</td>\n",
              "    </tr>\n",
              "    <tr>\n",
              "      <th>3</th>\n",
              "      <td>4</td>\n",
              "      <td>Trek Fuel EX 8 29 - 2016</td>\n",
              "      <td>9</td>\n",
              "      <td>6</td>\n",
              "      <td>2016.0</td>\n",
              "      <td>2899.99</td>\n",
              "    </tr>\n",
              "    <tr>\n",
              "      <th>4</th>\n",
              "      <td>5</td>\n",
              "      <td>Heller Shagamaw Frame - 2016</td>\n",
              "      <td>3</td>\n",
              "      <td>6</td>\n",
              "      <td>2016.0</td>\n",
              "      <td>1320.99</td>\n",
              "    </tr>\n",
              "    <tr>\n",
              "      <th>...</th>\n",
              "      <td>...</td>\n",
              "      <td>...</td>\n",
              "      <td>...</td>\n",
              "      <td>...</td>\n",
              "      <td>...</td>\n",
              "      <td>...</td>\n",
              "    </tr>\n",
              "    <tr>\n",
              "      <th>316</th>\n",
              "      <td>317</td>\n",
              "      <td>Trek Checkpoint ALR 5 - 2019</td>\n",
              "      <td>9</td>\n",
              "      <td>7</td>\n",
              "      <td>2019.0</td>\n",
              "      <td>1999.99</td>\n",
              "    </tr>\n",
              "    <tr>\n",
              "      <th>317</th>\n",
              "      <td>318</td>\n",
              "      <td>Trek Checkpoint ALR 5 Women's - 2019</td>\n",
              "      <td>9</td>\n",
              "      <td>7</td>\n",
              "      <td>2019.0</td>\n",
              "      <td>1999.99</td>\n",
              "    </tr>\n",
              "    <tr>\n",
              "      <th>318</th>\n",
              "      <td>319</td>\n",
              "      <td>Trek Checkpoint SL 5 Women's - 2019</td>\n",
              "      <td>9</td>\n",
              "      <td>7</td>\n",
              "      <td>2019.0</td>\n",
              "      <td>2799.99</td>\n",
              "    </tr>\n",
              "    <tr>\n",
              "      <th>319</th>\n",
              "      <td>320</td>\n",
              "      <td>Trek Checkpoint SL 6 - 2019</td>\n",
              "      <td>9</td>\n",
              "      <td>7</td>\n",
              "      <td>2019.0</td>\n",
              "      <td>3799.99</td>\n",
              "    </tr>\n",
              "    <tr>\n",
              "      <th>320</th>\n",
              "      <td>321</td>\n",
              "      <td>Trek Checkpoint ALR Frameset - 2019</td>\n",
              "      <td>9</td>\n",
              "      <td>7</td>\n",
              "      <td>2019.0</td>\n",
              "      <td>3199.99</td>\n",
              "    </tr>\n",
              "  </tbody>\n",
              "</table>\n",
              "<p>321 rows × 6 columns</p>\n",
              "</div>"
            ],
            "text/plain": [
              "     product_id                          product_name  ...  model_year  list_price\n",
              "0             1                       Trek 820 - 2016  ...      2016.0      379.99\n",
              "1             2    Ritchey Timberwolf Frameset - 2016  ...      2016.0      749.99\n",
              "2             3       Surly Wednesday Frameset - 2016  ...      2016.0      999.99\n",
              "3             4              Trek Fuel EX 8 29 - 2016  ...      2016.0     2899.99\n",
              "4             5          Heller Shagamaw Frame - 2016  ...      2016.0     1320.99\n",
              "..          ...                                   ...  ...         ...         ...\n",
              "316         317          Trek Checkpoint ALR 5 - 2019  ...      2019.0     1999.99\n",
              "317         318  Trek Checkpoint ALR 5 Women's - 2019  ...      2019.0     1999.99\n",
              "318         319   Trek Checkpoint SL 5 Women's - 2019  ...      2019.0     2799.99\n",
              "319         320           Trek Checkpoint SL 6 - 2019  ...      2019.0     3799.99\n",
              "320         321   Trek Checkpoint ALR Frameset - 2019  ...      2019.0     3199.99\n",
              "\n",
              "[321 rows x 6 columns]"
            ]
          },
          "metadata": {},
          "execution_count": 2
        }
      ]
    },
    {
      "cell_type": "markdown",
      "source": [
        "a. visualizzare il numero di prodotti di cui non si conosce l'anno del modello"
      ],
      "metadata": {
        "id": "ZJvEnELp1wdO"
      }
    },
    {
      "cell_type": "code",
      "source": [
        "df.loc[df[\"model_year\"].isnull()].count()[\"product_id\"]"
      ],
      "metadata": {
        "colab": {
          "base_uri": "https://localhost:8080/"
        },
        "id": "8ZcTu4bZ2D7O",
        "outputId": "7110ec52-d823-46e1-c33f-da2aa68ae8f6"
      },
      "execution_count": 3,
      "outputs": [
        {
          "output_type": "execute_result",
          "data": {
            "text/plain": [
              "10"
            ]
          },
          "metadata": {},
          "execution_count": 3
        }
      ]
    },
    {
      "cell_type": "markdown",
      "source": [
        "b. eliminare i prodotti del punto precedente dal dataframe\n"
      ],
      "metadata": {
        "id": "FbwR7LgX3yX-"
      }
    },
    {
      "cell_type": "code",
      "source": [
        "df.dropna(inplace = True)\n",
        "df"
      ],
      "metadata": {
        "colab": {
          "base_uri": "https://localhost:8080/",
          "height": 423
        },
        "id": "ciLHbQ1X3xlW",
        "outputId": "fd26ce0f-5512-4b72-86a8-0decbd2b9c7b"
      },
      "execution_count": 4,
      "outputs": [
        {
          "output_type": "execute_result",
          "data": {
            "text/html": [
              "<div>\n",
              "<style scoped>\n",
              "    .dataframe tbody tr th:only-of-type {\n",
              "        vertical-align: middle;\n",
              "    }\n",
              "\n",
              "    .dataframe tbody tr th {\n",
              "        vertical-align: top;\n",
              "    }\n",
              "\n",
              "    .dataframe thead th {\n",
              "        text-align: right;\n",
              "    }\n",
              "</style>\n",
              "<table border=\"1\" class=\"dataframe\">\n",
              "  <thead>\n",
              "    <tr style=\"text-align: right;\">\n",
              "      <th></th>\n",
              "      <th>product_id</th>\n",
              "      <th>product_name</th>\n",
              "      <th>brand_id</th>\n",
              "      <th>category_id</th>\n",
              "      <th>model_year</th>\n",
              "      <th>list_price</th>\n",
              "    </tr>\n",
              "  </thead>\n",
              "  <tbody>\n",
              "    <tr>\n",
              "      <th>0</th>\n",
              "      <td>1</td>\n",
              "      <td>Trek 820 - 2016</td>\n",
              "      <td>9</td>\n",
              "      <td>6</td>\n",
              "      <td>2016.0</td>\n",
              "      <td>379.99</td>\n",
              "    </tr>\n",
              "    <tr>\n",
              "      <th>1</th>\n",
              "      <td>2</td>\n",
              "      <td>Ritchey Timberwolf Frameset - 2016</td>\n",
              "      <td>5</td>\n",
              "      <td>6</td>\n",
              "      <td>2016.0</td>\n",
              "      <td>749.99</td>\n",
              "    </tr>\n",
              "    <tr>\n",
              "      <th>2</th>\n",
              "      <td>3</td>\n",
              "      <td>Surly Wednesday Frameset - 2016</td>\n",
              "      <td>8</td>\n",
              "      <td>6</td>\n",
              "      <td>2016.0</td>\n",
              "      <td>999.99</td>\n",
              "    </tr>\n",
              "    <tr>\n",
              "      <th>3</th>\n",
              "      <td>4</td>\n",
              "      <td>Trek Fuel EX 8 29 - 2016</td>\n",
              "      <td>9</td>\n",
              "      <td>6</td>\n",
              "      <td>2016.0</td>\n",
              "      <td>2899.99</td>\n",
              "    </tr>\n",
              "    <tr>\n",
              "      <th>4</th>\n",
              "      <td>5</td>\n",
              "      <td>Heller Shagamaw Frame - 2016</td>\n",
              "      <td>3</td>\n",
              "      <td>6</td>\n",
              "      <td>2016.0</td>\n",
              "      <td>1320.99</td>\n",
              "    </tr>\n",
              "    <tr>\n",
              "      <th>...</th>\n",
              "      <td>...</td>\n",
              "      <td>...</td>\n",
              "      <td>...</td>\n",
              "      <td>...</td>\n",
              "      <td>...</td>\n",
              "      <td>...</td>\n",
              "    </tr>\n",
              "    <tr>\n",
              "      <th>316</th>\n",
              "      <td>317</td>\n",
              "      <td>Trek Checkpoint ALR 5 - 2019</td>\n",
              "      <td>9</td>\n",
              "      <td>7</td>\n",
              "      <td>2019.0</td>\n",
              "      <td>1999.99</td>\n",
              "    </tr>\n",
              "    <tr>\n",
              "      <th>317</th>\n",
              "      <td>318</td>\n",
              "      <td>Trek Checkpoint ALR 5 Women's - 2019</td>\n",
              "      <td>9</td>\n",
              "      <td>7</td>\n",
              "      <td>2019.0</td>\n",
              "      <td>1999.99</td>\n",
              "    </tr>\n",
              "    <tr>\n",
              "      <th>318</th>\n",
              "      <td>319</td>\n",
              "      <td>Trek Checkpoint SL 5 Women's - 2019</td>\n",
              "      <td>9</td>\n",
              "      <td>7</td>\n",
              "      <td>2019.0</td>\n",
              "      <td>2799.99</td>\n",
              "    </tr>\n",
              "    <tr>\n",
              "      <th>319</th>\n",
              "      <td>320</td>\n",
              "      <td>Trek Checkpoint SL 6 - 2019</td>\n",
              "      <td>9</td>\n",
              "      <td>7</td>\n",
              "      <td>2019.0</td>\n",
              "      <td>3799.99</td>\n",
              "    </tr>\n",
              "    <tr>\n",
              "      <th>320</th>\n",
              "      <td>321</td>\n",
              "      <td>Trek Checkpoint ALR Frameset - 2019</td>\n",
              "      <td>9</td>\n",
              "      <td>7</td>\n",
              "      <td>2019.0</td>\n",
              "      <td>3199.99</td>\n",
              "    </tr>\n",
              "  </tbody>\n",
              "</table>\n",
              "<p>311 rows × 6 columns</p>\n",
              "</div>"
            ],
            "text/plain": [
              "     product_id                          product_name  ...  model_year  list_price\n",
              "0             1                       Trek 820 - 2016  ...      2016.0      379.99\n",
              "1             2    Ritchey Timberwolf Frameset - 2016  ...      2016.0      749.99\n",
              "2             3       Surly Wednesday Frameset - 2016  ...      2016.0      999.99\n",
              "3             4              Trek Fuel EX 8 29 - 2016  ...      2016.0     2899.99\n",
              "4             5          Heller Shagamaw Frame - 2016  ...      2016.0     1320.99\n",
              "..          ...                                   ...  ...         ...         ...\n",
              "316         317          Trek Checkpoint ALR 5 - 2019  ...      2019.0     1999.99\n",
              "317         318  Trek Checkpoint ALR 5 Women's - 2019  ...      2019.0     1999.99\n",
              "318         319   Trek Checkpoint SL 5 Women's - 2019  ...      2019.0     2799.99\n",
              "319         320           Trek Checkpoint SL 6 - 2019  ...      2019.0     3799.99\n",
              "320         321   Trek Checkpoint ALR Frameset - 2019  ...      2019.0     3199.99\n",
              "\n",
              "[311 rows x 6 columns]"
            ]
          },
          "metadata": {},
          "execution_count": 4
        }
      ]
    },
    {
      "cell_type": "markdown",
      "source": [
        "c. contare i prodotti che sono stati presenteti (model_year) nel 2017"
      ],
      "metadata": {
        "id": "zY3XBfQ94eyu"
      }
    },
    {
      "cell_type": "code",
      "source": [
        "df.loc[df[\"model_year\"] == 2017.0].count()[\"product_id\"]"
      ],
      "metadata": {
        "colab": {
          "base_uri": "https://localhost:8080/"
        },
        "id": "TNbBZUox4UIP",
        "outputId": "7d71eede-9205-41f1-ffb3-ec2a4d6b5c8e"
      },
      "execution_count": 5,
      "outputs": [
        {
          "output_type": "execute_result",
          "data": {
            "text/plain": [
              "85"
            ]
          },
          "metadata": {},
          "execution_count": 5
        }
      ]
    },
    {
      "cell_type": "markdown",
      "source": [
        "d. visualizzare i prodotti che hanno un category_id compreso tra 2 e 4 (estemi inclusi)"
      ],
      "metadata": {
        "id": "jDNbRyDd4xF9"
      }
    },
    {
      "cell_type": "code",
      "source": [
        "df.loc[(df[\"category_id\"] >=2) & (df[\"category_id\"] <=4)]"
      ],
      "metadata": {
        "colab": {
          "base_uri": "https://localhost:8080/",
          "height": 423
        },
        "id": "4k_mz2sP40CV",
        "outputId": "15e0fd28-6885-48d1-a94c-776d8d837c32"
      },
      "execution_count": 6,
      "outputs": [
        {
          "output_type": "execute_result",
          "data": {
            "text/html": [
              "<div>\n",
              "<style scoped>\n",
              "    .dataframe tbody tr th:only-of-type {\n",
              "        vertical-align: middle;\n",
              "    }\n",
              "\n",
              "    .dataframe tbody tr th {\n",
              "        vertical-align: top;\n",
              "    }\n",
              "\n",
              "    .dataframe thead th {\n",
              "        text-align: right;\n",
              "    }\n",
              "</style>\n",
              "<table border=\"1\" class=\"dataframe\">\n",
              "  <thead>\n",
              "    <tr style=\"text-align: right;\">\n",
              "      <th></th>\n",
              "      <th>product_id</th>\n",
              "      <th>product_name</th>\n",
              "      <th>brand_id</th>\n",
              "      <th>category_id</th>\n",
              "      <th>model_year</th>\n",
              "      <th>list_price</th>\n",
              "    </tr>\n",
              "  </thead>\n",
              "  <tbody>\n",
              "    <tr>\n",
              "      <th>9</th>\n",
              "      <td>10</td>\n",
              "      <td>Surly Straggler - 2016</td>\n",
              "      <td>8</td>\n",
              "      <td>4</td>\n",
              "      <td>2016.0</td>\n",
              "      <td>1549.00</td>\n",
              "    </tr>\n",
              "    <tr>\n",
              "      <th>10</th>\n",
              "      <td>11</td>\n",
              "      <td>Surly Straggler 650b - 2016</td>\n",
              "      <td>8</td>\n",
              "      <td>4</td>\n",
              "      <td>2016.0</td>\n",
              "      <td>1680.99</td>\n",
              "    </tr>\n",
              "    <tr>\n",
              "      <th>11</th>\n",
              "      <td>12</td>\n",
              "      <td>Electra Townie Original 21D - 2016</td>\n",
              "      <td>1</td>\n",
              "      <td>3</td>\n",
              "      <td>2016.0</td>\n",
              "      <td>549.99</td>\n",
              "    </tr>\n",
              "    <tr>\n",
              "      <th>12</th>\n",
              "      <td>13</td>\n",
              "      <td>Electra Cruiser 1 (24-Inch) - 2016</td>\n",
              "      <td>1</td>\n",
              "      <td>3</td>\n",
              "      <td>2016.0</td>\n",
              "      <td>269.99</td>\n",
              "    </tr>\n",
              "    <tr>\n",
              "      <th>13</th>\n",
              "      <td>14</td>\n",
              "      <td>Electra Girl's Hawaii 1 (16-inch) - 2015/2016</td>\n",
              "      <td>1</td>\n",
              "      <td>3</td>\n",
              "      <td>2016.0</td>\n",
              "      <td>269.99</td>\n",
              "    </tr>\n",
              "    <tr>\n",
              "      <th>...</th>\n",
              "      <td>...</td>\n",
              "      <td>...</td>\n",
              "      <td>...</td>\n",
              "      <td>...</td>\n",
              "      <td>...</td>\n",
              "      <td>...</td>\n",
              "    </tr>\n",
              "    <tr>\n",
              "      <th>309</th>\n",
              "      <td>310</td>\n",
              "      <td>Electra Townie Commute 27D Ladies - 2018</td>\n",
              "      <td>1</td>\n",
              "      <td>2</td>\n",
              "      <td>2018.0</td>\n",
              "      <td>899.99</td>\n",
              "    </tr>\n",
              "    <tr>\n",
              "      <th>311</th>\n",
              "      <td>312</td>\n",
              "      <td>Electra Townie Commute 8D Ladies' - 2018</td>\n",
              "      <td>1</td>\n",
              "      <td>2</td>\n",
              "      <td>2018.0</td>\n",
              "      <td>699.99</td>\n",
              "    </tr>\n",
              "    <tr>\n",
              "      <th>312</th>\n",
              "      <td>313</td>\n",
              "      <td>Electra Townie Original 1 Ladies' - 2018</td>\n",
              "      <td>1</td>\n",
              "      <td>2</td>\n",
              "      <td>2018.0</td>\n",
              "      <td>449.99</td>\n",
              "    </tr>\n",
              "    <tr>\n",
              "      <th>313</th>\n",
              "      <td>314</td>\n",
              "      <td>Electra Townie Original 21D EQ Ladies' - 2018</td>\n",
              "      <td>1</td>\n",
              "      <td>2</td>\n",
              "      <td>2018.0</td>\n",
              "      <td>679.99</td>\n",
              "    </tr>\n",
              "    <tr>\n",
              "      <th>314</th>\n",
              "      <td>315</td>\n",
              "      <td>Electra Townie Original 21D Ladies' - 2018</td>\n",
              "      <td>1</td>\n",
              "      <td>2</td>\n",
              "      <td>2018.0</td>\n",
              "      <td>559.99</td>\n",
              "    </tr>\n",
              "  </tbody>\n",
              "</table>\n",
              "<p>114 rows × 6 columns</p>\n",
              "</div>"
            ],
            "text/plain": [
              "     product_id  ... list_price\n",
              "9            10  ...    1549.00\n",
              "10           11  ...    1680.99\n",
              "11           12  ...     549.99\n",
              "12           13  ...     269.99\n",
              "13           14  ...     269.99\n",
              "..          ...  ...        ...\n",
              "309         310  ...     899.99\n",
              "311         312  ...     699.99\n",
              "312         313  ...     449.99\n",
              "313         314  ...     679.99\n",
              "314         315  ...     559.99\n",
              "\n",
              "[114 rows x 6 columns]"
            ]
          },
          "metadata": {},
          "execution_count": 6
        }
      ]
    },
    {
      "cell_type": "markdown",
      "source": [
        "e. visualizzare i prodotti che hanno la parola Trek nel nome"
      ],
      "metadata": {
        "id": "DU1PlgIM6I0m"
      }
    },
    {
      "cell_type": "code",
      "source": [
        "df.loc[df[\"product_name\"].str.contains(\"Trek\")]"
      ],
      "metadata": {
        "colab": {
          "base_uri": "https://localhost:8080/",
          "height": 423
        },
        "id": "TJucNhwH6LDd",
        "outputId": "3db13790-88ac-429e-eff5-1ec89252f367"
      },
      "execution_count": 7,
      "outputs": [
        {
          "output_type": "execute_result",
          "data": {
            "text/html": [
              "<div>\n",
              "<style scoped>\n",
              "    .dataframe tbody tr th:only-of-type {\n",
              "        vertical-align: middle;\n",
              "    }\n",
              "\n",
              "    .dataframe tbody tr th {\n",
              "        vertical-align: top;\n",
              "    }\n",
              "\n",
              "    .dataframe thead th {\n",
              "        text-align: right;\n",
              "    }\n",
              "</style>\n",
              "<table border=\"1\" class=\"dataframe\">\n",
              "  <thead>\n",
              "    <tr style=\"text-align: right;\">\n",
              "      <th></th>\n",
              "      <th>product_id</th>\n",
              "      <th>product_name</th>\n",
              "      <th>brand_id</th>\n",
              "      <th>category_id</th>\n",
              "      <th>model_year</th>\n",
              "      <th>list_price</th>\n",
              "    </tr>\n",
              "  </thead>\n",
              "  <tbody>\n",
              "    <tr>\n",
              "      <th>0</th>\n",
              "      <td>1</td>\n",
              "      <td>Trek 820 - 2016</td>\n",
              "      <td>9</td>\n",
              "      <td>6</td>\n",
              "      <td>2016.0</td>\n",
              "      <td>379.99</td>\n",
              "    </tr>\n",
              "    <tr>\n",
              "      <th>3</th>\n",
              "      <td>4</td>\n",
              "      <td>Trek Fuel EX 8 29 - 2016</td>\n",
              "      <td>9</td>\n",
              "      <td>6</td>\n",
              "      <td>2016.0</td>\n",
              "      <td>2899.99</td>\n",
              "    </tr>\n",
              "    <tr>\n",
              "      <th>6</th>\n",
              "      <td>7</td>\n",
              "      <td>Trek Slash 8 27.5 - 2016</td>\n",
              "      <td>9</td>\n",
              "      <td>6</td>\n",
              "      <td>2016.0</td>\n",
              "      <td>3999.99</td>\n",
              "    </tr>\n",
              "    <tr>\n",
              "      <th>7</th>\n",
              "      <td>8</td>\n",
              "      <td>Trek Remedy 29 Carbon Frameset - 2016</td>\n",
              "      <td>9</td>\n",
              "      <td>6</td>\n",
              "      <td>2016.0</td>\n",
              "      <td>1799.99</td>\n",
              "    </tr>\n",
              "    <tr>\n",
              "      <th>28</th>\n",
              "      <td>29</td>\n",
              "      <td>Trek X-Caliber 8 - 2017</td>\n",
              "      <td>9</td>\n",
              "      <td>6</td>\n",
              "      <td>2017.0</td>\n",
              "      <td>999.99</td>\n",
              "    </tr>\n",
              "    <tr>\n",
              "      <th>...</th>\n",
              "      <td>...</td>\n",
              "      <td>...</td>\n",
              "      <td>...</td>\n",
              "      <td>...</td>\n",
              "      <td>...</td>\n",
              "      <td>...</td>\n",
              "    </tr>\n",
              "    <tr>\n",
              "      <th>316</th>\n",
              "      <td>317</td>\n",
              "      <td>Trek Checkpoint ALR 5 - 2019</td>\n",
              "      <td>9</td>\n",
              "      <td>7</td>\n",
              "      <td>2019.0</td>\n",
              "      <td>1999.99</td>\n",
              "    </tr>\n",
              "    <tr>\n",
              "      <th>317</th>\n",
              "      <td>318</td>\n",
              "      <td>Trek Checkpoint ALR 5 Women's - 2019</td>\n",
              "      <td>9</td>\n",
              "      <td>7</td>\n",
              "      <td>2019.0</td>\n",
              "      <td>1999.99</td>\n",
              "    </tr>\n",
              "    <tr>\n",
              "      <th>318</th>\n",
              "      <td>319</td>\n",
              "      <td>Trek Checkpoint SL 5 Women's - 2019</td>\n",
              "      <td>9</td>\n",
              "      <td>7</td>\n",
              "      <td>2019.0</td>\n",
              "      <td>2799.99</td>\n",
              "    </tr>\n",
              "    <tr>\n",
              "      <th>319</th>\n",
              "      <td>320</td>\n",
              "      <td>Trek Checkpoint SL 6 - 2019</td>\n",
              "      <td>9</td>\n",
              "      <td>7</td>\n",
              "      <td>2019.0</td>\n",
              "      <td>3799.99</td>\n",
              "    </tr>\n",
              "    <tr>\n",
              "      <th>320</th>\n",
              "      <td>321</td>\n",
              "      <td>Trek Checkpoint ALR Frameset - 2019</td>\n",
              "      <td>9</td>\n",
              "      <td>7</td>\n",
              "      <td>2019.0</td>\n",
              "      <td>3199.99</td>\n",
              "    </tr>\n",
              "  </tbody>\n",
              "</table>\n",
              "<p>131 rows × 6 columns</p>\n",
              "</div>"
            ],
            "text/plain": [
              "     product_id                           product_name  ...  model_year  list_price\n",
              "0             1                        Trek 820 - 2016  ...      2016.0      379.99\n",
              "3             4               Trek Fuel EX 8 29 - 2016  ...      2016.0     2899.99\n",
              "6             7               Trek Slash 8 27.5 - 2016  ...      2016.0     3999.99\n",
              "7             8  Trek Remedy 29 Carbon Frameset - 2016  ...      2016.0     1799.99\n",
              "28           29                Trek X-Caliber 8 - 2017  ...      2017.0      999.99\n",
              "..          ...                                    ...  ...         ...         ...\n",
              "316         317           Trek Checkpoint ALR 5 - 2019  ...      2019.0     1999.99\n",
              "317         318   Trek Checkpoint ALR 5 Women's - 2019  ...      2019.0     1999.99\n",
              "318         319    Trek Checkpoint SL 5 Women's - 2019  ...      2019.0     2799.99\n",
              "319         320            Trek Checkpoint SL 6 - 2019  ...      2019.0     3799.99\n",
              "320         321    Trek Checkpoint ALR Frameset - 2019  ...      2019.0     3199.99\n",
              "\n",
              "[131 rows x 6 columns]"
            ]
          },
          "metadata": {},
          "execution_count": 7
        }
      ]
    },
    {
      "cell_type": "markdown",
      "source": [
        "f. visualizzare il numero di prodotti per ogni categoria (visualizzare il numero della categoria e il numero di prodotti)"
      ],
      "metadata": {
        "id": "cEAG-k0x6i7O"
      }
    },
    {
      "cell_type": "code",
      "source": [
        "df.groupby(\"category_id\", as_index = False)[\"product_name\"].count()"
      ],
      "metadata": {
        "colab": {
          "base_uri": "https://localhost:8080/",
          "height": 269
        },
        "id": "v3mNLiIm6llH",
        "outputId": "5fbfffdf-9902-41bf-f2d5-c75f6bf50ec4"
      },
      "execution_count": 19,
      "outputs": [
        {
          "output_type": "execute_result",
          "data": {
            "text/html": [
              "<div>\n",
              "<style scoped>\n",
              "    .dataframe tbody tr th:only-of-type {\n",
              "        vertical-align: middle;\n",
              "    }\n",
              "\n",
              "    .dataframe tbody tr th {\n",
              "        vertical-align: top;\n",
              "    }\n",
              "\n",
              "    .dataframe thead th {\n",
              "        text-align: right;\n",
              "    }\n",
              "</style>\n",
              "<table border=\"1\" class=\"dataframe\">\n",
              "  <thead>\n",
              "    <tr style=\"text-align: right;\">\n",
              "      <th></th>\n",
              "      <th>category_id</th>\n",
              "      <th>product_name</th>\n",
              "    </tr>\n",
              "  </thead>\n",
              "  <tbody>\n",
              "    <tr>\n",
              "      <th>0</th>\n",
              "      <td>1</td>\n",
              "      <td>57</td>\n",
              "    </tr>\n",
              "    <tr>\n",
              "      <th>1</th>\n",
              "      <td>2</td>\n",
              "      <td>28</td>\n",
              "    </tr>\n",
              "    <tr>\n",
              "      <th>2</th>\n",
              "      <td>3</td>\n",
              "      <td>76</td>\n",
              "    </tr>\n",
              "    <tr>\n",
              "      <th>3</th>\n",
              "      <td>4</td>\n",
              "      <td>10</td>\n",
              "    </tr>\n",
              "    <tr>\n",
              "      <th>4</th>\n",
              "      <td>5</td>\n",
              "      <td>22</td>\n",
              "    </tr>\n",
              "    <tr>\n",
              "      <th>5</th>\n",
              "      <td>6</td>\n",
              "      <td>59</td>\n",
              "    </tr>\n",
              "    <tr>\n",
              "      <th>6</th>\n",
              "      <td>7</td>\n",
              "      <td>59</td>\n",
              "    </tr>\n",
              "  </tbody>\n",
              "</table>\n",
              "</div>"
            ],
            "text/plain": [
              "   category_id  product_name\n",
              "0            1            57\n",
              "1            2            28\n",
              "2            3            76\n",
              "3            4            10\n",
              "4            5            22\n",
              "5            6            59\n",
              "6            7            59"
            ]
          },
          "metadata": {},
          "execution_count": 19
        }
      ]
    },
    {
      "cell_type": "markdown",
      "source": [
        "g. visualizzare le categorie che hanno più di 50 prodotti visualizzare il numero della categoria e il numero di prodotti)"
      ],
      "metadata": {
        "id": "lFKqpuxm7ko9"
      }
    },
    {
      "cell_type": "code",
      "source": [
        "df2 = df.groupby(\"category_id\", as_index = False)[\"product_name\"].count()\n",
        "df2.loc[df2[\"product_name\"] >= 50]"
      ],
      "metadata": {
        "colab": {
          "base_uri": "https://localhost:8080/",
          "height": 174
        },
        "id": "_DDxq6kE7nR9",
        "outputId": "7eaa7e54-4774-4603-978c-8d888088e31e"
      },
      "execution_count": 20,
      "outputs": [
        {
          "output_type": "execute_result",
          "data": {
            "text/html": [
              "<div>\n",
              "<style scoped>\n",
              "    .dataframe tbody tr th:only-of-type {\n",
              "        vertical-align: middle;\n",
              "    }\n",
              "\n",
              "    .dataframe tbody tr th {\n",
              "        vertical-align: top;\n",
              "    }\n",
              "\n",
              "    .dataframe thead th {\n",
              "        text-align: right;\n",
              "    }\n",
              "</style>\n",
              "<table border=\"1\" class=\"dataframe\">\n",
              "  <thead>\n",
              "    <tr style=\"text-align: right;\">\n",
              "      <th></th>\n",
              "      <th>category_id</th>\n",
              "      <th>product_name</th>\n",
              "    </tr>\n",
              "  </thead>\n",
              "  <tbody>\n",
              "    <tr>\n",
              "      <th>0</th>\n",
              "      <td>1</td>\n",
              "      <td>57</td>\n",
              "    </tr>\n",
              "    <tr>\n",
              "      <th>2</th>\n",
              "      <td>3</td>\n",
              "      <td>76</td>\n",
              "    </tr>\n",
              "    <tr>\n",
              "      <th>5</th>\n",
              "      <td>6</td>\n",
              "      <td>59</td>\n",
              "    </tr>\n",
              "    <tr>\n",
              "      <th>6</th>\n",
              "      <td>7</td>\n",
              "      <td>59</td>\n",
              "    </tr>\n",
              "  </tbody>\n",
              "</table>\n",
              "</div>"
            ],
            "text/plain": [
              "   category_id  product_name\n",
              "0            1            57\n",
              "2            3            76\n",
              "5            6            59\n",
              "6            7            59"
            ]
          },
          "metadata": {},
          "execution_count": 20
        }
      ]
    },
    {
      "cell_type": "markdown",
      "source": [
        "h. visualizzare uno stacked bar chart che riporti il numero di prodotti presentati per ogni anno in ogni categoria. Il grafico deve presentare sulle ascisse il numero della categoria e sulle ordinate il numero di prodotti, divisi per anno"
      ],
      "metadata": {
        "id": "rodnE_x-9AWV"
      }
    },
    {
      "cell_type": "code",
      "source": [
        "dfcategorie = df.groupby(\"category_id\", as_index = False)[\"product_id\"].count()\n",
        "dfcategorie"
      ],
      "metadata": {
        "id": "4EG99th7_xZ2"
      },
      "execution_count": null,
      "outputs": []
    },
    {
      "cell_type": "code",
      "source": [
        "\n",
        "df3 = df.groupby([\"model_year\",\"category_id\"])[\"product_id\"].count().unstack().reset_index()\n",
        "df3"
      ],
      "metadata": {
        "colab": {
          "base_uri": "https://localhost:8080/",
          "height": 174
        },
        "id": "NmRJu4Z69mr0",
        "outputId": "361f1240-5665-4956-a21a-558f429dee81"
      },
      "execution_count": 26,
      "outputs": [
        {
          "output_type": "execute_result",
          "data": {
            "text/html": [
              "<div>\n",
              "<style scoped>\n",
              "    .dataframe tbody tr th:only-of-type {\n",
              "        vertical-align: middle;\n",
              "    }\n",
              "\n",
              "    .dataframe tbody tr th {\n",
              "        vertical-align: top;\n",
              "    }\n",
              "\n",
              "    .dataframe thead th {\n",
              "        text-align: right;\n",
              "    }\n",
              "</style>\n",
              "<table border=\"1\" class=\"dataframe\">\n",
              "  <thead>\n",
              "    <tr style=\"text-align: right;\">\n",
              "      <th>category_id</th>\n",
              "      <th>model_year</th>\n",
              "      <th>1</th>\n",
              "      <th>2</th>\n",
              "      <th>3</th>\n",
              "      <th>4</th>\n",
              "      <th>5</th>\n",
              "      <th>6</th>\n",
              "      <th>7</th>\n",
              "    </tr>\n",
              "  </thead>\n",
              "  <tbody>\n",
              "    <tr>\n",
              "      <th>0</th>\n",
              "      <td>2016.0</td>\n",
              "      <td>3.0</td>\n",
              "      <td>3.0</td>\n",
              "      <td>9.0</td>\n",
              "      <td>2.0</td>\n",
              "      <td>NaN</td>\n",
              "      <td>8.0</td>\n",
              "      <td>NaN</td>\n",
              "    </tr>\n",
              "    <tr>\n",
              "      <th>1</th>\n",
              "      <td>2017.0</td>\n",
              "      <td>19.0</td>\n",
              "      <td>10.0</td>\n",
              "      <td>19.0</td>\n",
              "      <td>2.0</td>\n",
              "      <td>2.0</td>\n",
              "      <td>21.0</td>\n",
              "      <td>12.0</td>\n",
              "    </tr>\n",
              "    <tr>\n",
              "      <th>2</th>\n",
              "      <td>2018.0</td>\n",
              "      <td>35.0</td>\n",
              "      <td>15.0</td>\n",
              "      <td>48.0</td>\n",
              "      <td>6.0</td>\n",
              "      <td>20.0</td>\n",
              "      <td>30.0</td>\n",
              "      <td>41.0</td>\n",
              "    </tr>\n",
              "    <tr>\n",
              "      <th>3</th>\n",
              "      <td>2019.0</td>\n",
              "      <td>NaN</td>\n",
              "      <td>NaN</td>\n",
              "      <td>NaN</td>\n",
              "      <td>NaN</td>\n",
              "      <td>NaN</td>\n",
              "      <td>NaN</td>\n",
              "      <td>6.0</td>\n",
              "    </tr>\n",
              "  </tbody>\n",
              "</table>\n",
              "</div>"
            ],
            "text/plain": [
              "category_id  model_year     1     2     3    4     5     6     7\n",
              "0                2016.0   3.0   3.0   9.0  2.0   NaN   8.0   NaN\n",
              "1                2017.0  19.0  10.0  19.0  2.0   2.0  21.0  12.0\n",
              "2                2018.0  35.0  15.0  48.0  6.0  20.0  30.0  41.0\n",
              "3                2019.0   NaN   NaN   NaN  NaN   NaN   NaN   6.0"
            ]
          },
          "metadata": {},
          "execution_count": 26
        }
      ]
    },
    {
      "cell_type": "code",
      "source": [
        "import numpy as np\n",
        "import matplotlib.pyplot as plt\n",
        "\n",
        "\n",
        "\n",
        "fig = plt.figure()\n",
        "ax = plt.axes()\n",
        "ax.bar(df3[\"model_year\"],df3[1],color=\"r\")\n",
        "ax.bar(df3[\"model_year\"],df3[2],bottom=df3[1],color=\"b\")\n",
        "ax.bar(df3[\"model_year\"],df3[3],bottom=df3[1]+ df3[2],color=\"y\")\n",
        "ax.bar(df3[\"model_year\"],df3[4],bottom=df3[1]+ df3[2]+df3[3],color=\"g\")\n",
        "ax.bar(df3[\"model_year\"],df3[5],bottom=df3[1]+ df3[2]+df3[3]+df3[4],color=\"m\")\n",
        "ax.bar(df3[\"model_year\"],df3[6],bottom=df3[1]+ df3[2]+df3[3]+df3[4]+df3[5],color=\"g\")\n",
        "ax.bar(df3[\"model_year\"],df3[7],bottom=df3[1]+ df3[2]+df3[3]+df3[4]+df3[5]+df3[6],color=\"c\")"
      ],
      "metadata": {
        "colab": {
          "base_uri": "https://localhost:8080/",
          "height": 291
        },
        "id": "7AHX3wvX9RVd",
        "outputId": "e6a51736-b0b9-4fa4-fffc-b278c505196f"
      },
      "execution_count": 27,
      "outputs": [
        {
          "output_type": "execute_result",
          "data": {
            "text/plain": [
              "<BarContainer object of 4 artists>"
            ]
          },
          "metadata": {},
          "execution_count": 27
        },
        {
          "output_type": "display_data",
          "data": {
            "image/png": "[encoded data removed]",
            "text/plain": [
              "<Figure size 432x288 with 1 Axes>"
            ]
          },
          "metadata": {
            "needs_background": "light"
          }
        }
      ]
    },
    {
      "cell_type": "markdown",
      "source": [
        "i. visualizzare un pie chart che riporti in numero di prodotti presentati in ogni anno."
      ],
      "metadata": {
        "id": "Hnu8i__7BOte"
      }
    },
    {
      "cell_type": "code",
      "source": [
        "df4 = df.groupby(\"model_year\", as_index = False)[\"product_id\"].count()\n",
        "\n",
        "fig = plt.figure(figsize = (12,12))\n",
        "ax = plt.axes()\n",
        "\n",
        "plt.rcParams.update({\"font.size\":20})\n",
        "\n",
        "def make_autopct(values):\n",
        "    def my_autopct(pct):\n",
        "        total = sum(values)\n",
        "        val = int(round(pct*total/100.0))\n",
        "        return '{v:d}({p:.2f}%) '.format(p=pct,v=val)\n",
        "    return my_autopct\n",
        "\n",
        "values = list(df3[\"product_id\"])\n",
        "\n",
        "ax.pie(df4[\"product_id\"], labels = df4[\"model_year\"], autopct=make_autopct(values))\n",
        "plt.show()"
      ],
      "metadata": {
        "colab": {
          "base_uri": "https://localhost:8080/",
          "height": 683
        },
        "id": "w16O2ixbsi9h",
        "outputId": "a0bb7888-cb3e-48a8-dd15-380dba5b1883"
      },
      "execution_count": 23,
      "outputs": [
        {
          "output_type": "display_data",
          "data": {
            "image/png": "[encoded data removed]",
            "text/plain": [
              "<Figure size 864x864 with 1 Axes>"
            ]
          },
          "metadata": {}
        }
      ]
    },
    {
      "cell_type": "markdown",
      "source": [
        "j. salvare in un file png i due grafici affiancati"
      ],
      "metadata": {
        "id": "rO-yDMgyx4iO"
      }
    },
    {
      "cell_type": "code",
      "source": [
        "fig, (ax1,ax2) = plt.subplots(1, 2)\n",
        "\n",
        "ax1.bar(df3[\"model_year\"],df3[7],bottom=df3[1]+ df3[2]+df3[3]+df3[4]+df3[5]+df3[6],color=\"c\")\n",
        "ax2.pie(df4[\"product_id\"], labels = df4[\"model_year\"], autopct=make_autopct(values))\n",
        "\n",
        "fig.savefig(\"myfig.png\")"
      ],
      "metadata": {
        "colab": {
          "base_uri": "https://localhost:8080/",
          "height": 274
        },
        "id": "iXx3pxohx9UH",
        "outputId": "01c43d63-32c0-484b-9f80-935b7584724e"
      },
      "execution_count": 30,
      "outputs": [
        {
          "output_type": "display_data",
          "data": {
            "image/png": "[encoded data removed]",
            "text/plain": [
              "<Figure size 432x288 with 2 Axes>"
            ]
          },
          "metadata": {
            "needs_background": "light"
          }
        }
      ]
    }
  ]
}