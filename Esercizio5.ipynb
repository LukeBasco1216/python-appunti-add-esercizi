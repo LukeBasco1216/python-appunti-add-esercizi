{
  "nbformat": 4,
  "nbformat_minor": 0,
  "metadata": {
    "colab": {
      "name": "Esercizio5.ipynb",
      "provenance": [],
      "collapsed_sections": []
    },
    "kernelspec": {
      "name": "python3",
      "display_name": "Python 3"
    },
    "language_info": {
      "name": "python"
    }
  },
  "cells": [
    {
      "cell_type": "markdown",
      "metadata": {
        "id": "4UGCd02qQNLv"
      },
      "source": [
        "1. scrivere una funzione chiamata max che dati due numeri restituisca il più grande. Scrivere poi un programma che, utilizzando la funzione creata, trovi il massimo tra tre numeri inseriti dall'utente. "
      ]
    },
    {
      "cell_type": "code",
      "metadata": {
        "colab": {
          "base_uri": "https://localhost:8080/"
        },
        "id": "LbeNLd86QKtg",
        "outputId": "05d8abc9-4d19-4776-ba9c-57b5c5606ae3"
      },
      "source": [
        "def Max(x, y):\n",
        "  max = max(x, y)\n",
        "  return max\n",
        "\n",
        "numeri = [ int(s) for s in input(\"inserisci valori: \").split()]\n",
        "print(max(numeri))"
      ],
      "execution_count": null,
      "outputs": [
        {
          "output_type": "stream",
          "name": "stdout",
          "text": [
            "inserisci valori: 11 3 8\n",
            "11\n"
          ]
        }
      ]
    },
    {
      "cell_type": "markdown",
      "metadata": {
        "id": "M23-Lo33YFpV"
      },
      "source": [
        "2. scrivere una funzione chiamata sommaLista che data una lista di interi restituisca la somma di tutti gli elementi della lista. Scrivere poi un programma che, utilizzando la funzione create, trovi la somma degli elementi di una lista inserita dall'utente. "
      ]
    },
    {
      "cell_type": "code",
      "metadata": {
        "colab": {
          "base_uri": "https://localhost:8080/"
        },
        "id": "sGS5pVZFYHz7",
        "outputId": "b0b82678-4c75-4086-fc0f-251ae962cc70"
      },
      "source": [
        "def sommaLista(tot):\n",
        "  total = 0\n",
        "  for x in tot:\n",
        "    total += x\n",
        "  return total\n",
        "\n",
        "print(sum([ int(s) for s in input(\"inserisci valori: \").split()]))"
      ],
      "execution_count": 1,
      "outputs": [
        {
          "output_type": "stream",
          "name": "stdout",
          "text": [
            "inserisci valori: 3 5\n",
            "8\n"
          ]
        }
      ]
    },
    {
      "cell_type": "markdown",
      "metadata": {
        "id": "tbUhS5y3aWLE"
      },
      "source": [
        "3. utilizzando le funzioni create precedentemente, scrivere un programma che permetta all'utente di inserire tre liste e di avere il valore massimo della somma degli elementi delle tre liste.\n"
      ]
    },
    {
      "cell_type": "code",
      "metadata": {
        "id": "A_eLq9XLaYKT",
        "colab": {
          "base_uri": "https://localhost:8080/"
        },
        "outputId": "83a01922-b57b-4dff-a87a-b6a49d7ba838"
      },
      "source": [
        "lista1 = [int(ele) for ele in input().split()]\n",
        "lista2 = [int(ele) for ele in input().split()]\n",
        "lista3 = [int(ele) for ele in input().split()]\n",
        "\n",
        "print(max(sommaLista(lista3),max(sommaLista(lista1), sommaLista(lista2))))"
      ],
      "execution_count": 9,
      "outputs": [
        {
          "output_type": "stream",
          "name": "stdout",
          "text": [
            "1111\n",
            "2\n",
            "3\n",
            "1111\n"
          ]
        }
      ]
    },
    {
      "cell_type": "markdown",
      "metadata": {
        "id": "catPVJyy3DKM"
      },
      "source": [
        "4. scrivere una funzione chiamata controlla che dato un numero e due estremi restituisca True se il numero è compreso tra i due estremi, false altrimenti. Utilizzare poi la funzione per trovare il numero di elementi di una lista di numeri interi (inserita dall'utente) compresi tra due estremi (inseriti anch'essi dall'utente)"
      ]
    },
    {
      "cell_type": "code",
      "metadata": {
        "colab": {
          "base_uri": "https://localhost:8080/"
        },
        "id": "XN3Gt3WF3K1N",
        "outputId": "646a54c3-f31a-4701-89f4-88dcbb1ada26"
      },
      "source": [
        "def controlla(x, primoestremo, secondoestremo):\n",
        "  for i in range(primoestremo + 1, secondoestremo):\n",
        "    lista.append(i)\n",
        "\n",
        "\n",
        "lista = []\n",
        "\n",
        "primoestremo = int(input(\"inserire il primo estremo: \"))\n",
        "secondoestremo = int(input(\"inserire il secondo estremo: \"))\n",
        "numdacontrollare = [int(ele)for ele in input(\"inserire i numeri da controllare: \").split()]\n",
        "\n",
        "controlla(numdacontrollare, primoestremo, secondoestremo)\n",
        "\n",
        "contatore = 0\n",
        "for i in lista:\n",
        "  if i in numdacontrollare:\n",
        "    contatore +=1\n",
        "\n",
        "print(\"Il tot di num compreso tra i due estremi sono: \", contatore)"
      ],
      "execution_count": 20,
      "outputs": [
        {
          "output_type": "stream",
          "name": "stdout",
          "text": [
            "inserire il primo estremo: 2\n",
            "inserire il secondo estremo: 9\n",
            "inserire i numeri da controllare: 4 7 11\n",
            "Il tot di num compreso tra i due estremi sono:  2\n"
          ]
        }
      ]
    },
    {
      "cell_type": "markdown",
      "metadata": {
        "id": "ZSWzT4ai8zMN"
      },
      "source": [
        "5. utilizzare la funzione controlla creata precedentemente per scrivere un programma che, data una lista di numeri interi inserita  dall'utente, carichi in un'altra lista i numeri compresi tra due estremi inseriti anch'essi dall'utente."
      ]
    },
    {
      "cell_type": "code",
      "metadata": {
        "colab": {
          "base_uri": "https://localhost:8080/"
        },
        "id": "_UZqlu9A811z",
        "outputId": "8f3719f0-18f0-4c0d-dcd2-911f9223d0ba"
      },
      "source": [
        "lista = []\n",
        "primoestremo = int(input(\"inserire il primo estremo: \"))\n",
        "secondoestremo = int(input(\"inserire il secondo estremo: \"))\n",
        "numdacontrollare2 = [int(ele)for ele in input(\"inserire i numeri da controllare: \").split()]\n",
        "\n",
        "controlla(numdacontrollare, primoestremo, secondoestremo)\n",
        "\n",
        "listadinumcompresinei2estremi = []\n",
        "for i in lista:\n",
        "  if i in numdacontrollare2:\n",
        "    listadinumcompresinei2estremi.append(i)\n",
        "\n",
        "print(listadinumcompresinei2estremi)"
      ],
      "execution_count": 21,
      "outputs": [
        {
          "output_type": "stream",
          "name": "stdout",
          "text": [
            "inserire il primo estremo: 3\n",
            "inserire il secondo estremo: 9\n",
            "inserire i numeri da controllare: 4 7 11\n",
            "[4, 7]\n"
          ]
        }
      ]
    },
    {
      "cell_type": "markdown",
      "metadata": {
        "id": "aL4RhYv2_pD7"
      },
      "source": [
        "6. scrivere una funzione chiamata confrontaListe che date due liste restituisca True se le due liste sono uguali, False altrimenti. Utilizzare poi la funzione in un programma che dica se una lista di interi è palindroma, cioè se può essere letta indifferentemente da sinistra a destra e da destra a sinistra. Ad esempio la lista [1, 2, 3, 4, 3, 2, 1] è palindroma, la lista [1, 2, 3, 4, 3,1, 2] non lo è."
      ]
    },
    {
      "cell_type": "code",
      "metadata": {
        "colab": {
          "base_uri": "https://localhost:8080/"
        },
        "id": "dPbUpsPJ_rIL",
        "outputId": "9f85c61f-82f7-4874-a2f2-7b371742c171"
      },
      "source": [
        "def confrontaListe(lista1, lista2):\n",
        "  if lista1 == lista2:\n",
        "    return print(\"Le 2 liste sono liste palindrome\")\n",
        "  else:\n",
        "    return print(\"Le 2 liste non sono liste palindrome\")\n",
        "\n",
        "primalista = [int(ele) for ele in input(\"inserire una serie di numeri: \").split()]\n",
        "secondalista = primalista [:]\n",
        "secondalista.reverse()\n",
        "\n",
        "confrontaListe(primalista, secondalista)\n"
      ],
      "execution_count": 32,
      "outputs": [
        {
          "output_type": "stream",
          "name": "stdout",
          "text": [
            "inserire una serie di numeri: 1 4 7 4 1\n",
            "Le 2 liste sono liste palindrome\n"
          ]
        }
      ]
    },
    {
      "cell_type": "markdown",
      "metadata": {
        "id": "sKmfQhejCjST"
      },
      "source": [
        "7. scrivere una funzione chiamata celsiusToFahrenheit che data una temperatura in gradi Celsius restituisca il valore convertito in gradi Fahrenheit (per ulteriori info, google it). Scrivere poi un programma che data una lista di temperature in gradi Celsius,inserita dall'utente, converta tutte le temperature in gradi Fahrenheit."
      ]
    },
    {
      "cell_type": "code",
      "metadata": {
        "colab": {
          "base_uri": "https://localhost:8080/"
        },
        "id": "GkExhSLjCmlZ",
        "outputId": "f6ffd485-c9a4-4dcc-e629-e7df59fb2c28"
      },
      "source": [
        "def celsiusToFahrenheit(celsius):\n",
        "  farenheit = celsius * (1.8) + 32\n",
        "  return farenheit\n",
        "\n",
        "listadigradiincelsius = [float(celsius) for celsius in input(\"inserire temperature in C: \").split()]\n",
        "\n",
        "for i in listadigradiincelsius:\n",
        "  print(\"le tamperatura in farenheit e: \",celsiusToFahrenheit(i))\n"
      ],
      "execution_count": 45,
      "outputs": [
        {
          "output_type": "stream",
          "name": "stdout",
          "text": [
            "inserire temperature in C: 34 56 78\n",
            "le tamperatura in farenheit e:  93.2\n",
            "le tamperatura in farenheit e:  132.8\n",
            "le tamperatura in farenheit e:  172.4\n"
          ]
        }
      ]
    },
    {
      "cell_type": "markdown",
      "metadata": {
        "id": "OHTm5uGVHGMy"
      },
      "source": [
        "8. scrivere una funzione chiamata IMC che calcoli l'Indice di Massa Corporea a partire dal peso (in kg) e dall'altezza (in m). Utilizzare poi la funzione per scrivere un programma che date tre liste, contenente la prima una serie di nomi, la seconda una serie di pesi e la terza una serie di altezze, produca una quarta lista contenente i valori di IMC corrispondenti. Visualizzare poi i risultati nel seguente modo: \"<nome> pesa <peso kg, misura <altezza> m ed ha un IMC di <IMC>\" ( i valori nelle parentesi angolari vanno presi ovviamente dalle liste)"
      ]
    },
    {
      "cell_type": "code",
      "metadata": {
        "id": "4oN81JPeHIdM"
      },
      "source": [
        "def IMC(kg, m):\n",
        "  imc = kg / m **2\n",
        "  return imc\n",
        "\n",
        "\n",
        "listanomi = [str(nomi) for nomi in input(\"inserire una serie di nomi: \").split()]\n",
        "listapesi = [str(pesi) for pesi in input(\"inserire una serie di nomi: \").split()]\n",
        "listaaltezze = [str(altezze) for altezze in input(\"inserire una serie di nomi: \").split()]\n",
        "\n",
        "###   NON SO COME FARLO"
      ],
      "execution_count": null,
      "outputs": []
    },
    {
      "cell_type": "markdown",
      "metadata": {
        "id": "n5PlfxkwI4gd"
      },
      "source": [
        "9: scrivere una lambda function per estrarre da una lista di numeri interi tutti i valori pari."
      ]
    },
    {
      "cell_type": "code",
      "metadata": {
        "colab": {
          "base_uri": "https://localhost:8080/"
        },
        "id": "WF-54ZL4I6c7",
        "outputId": "3223e016-cda4-49fd-de65-0a1b3bb2e77c"
      },
      "source": [
        "lista = [1,2,3,4,5,6,7,8,9,10,11,12,13,14,15,16]\n",
        "risultato = lambda lista: [int(n) for n in lista if n % 2 == 0]\n",
        "print(risultato(lista))"
      ],
      "execution_count": 47,
      "outputs": [
        {
          "output_type": "stream",
          "name": "stdout",
          "text": [
            "[2, 4, 6, 8, 10, 12, 14, 16]\n"
          ]
        }
      ]
    }
  ]
}