{
  "nbformat": 4,
  "nbformat_minor": 0,
  "metadata": {
    "colab": {
      "name": "Esercizio3.ipynb",
      "provenance": [],
      "collapsed_sections": []
    },
    "kernelspec": {
      "name": "python3",
      "display_name": "Python 3"
    },
    "language_info": {
      "name": "python"
    }
  },
  "cells": [
    {
      "cell_type": "markdown",
      "metadata": {
        "id": "qGsunIYZvbng"
      },
      "source": [
        "Esempio"
      ]
    },
    {
      "cell_type": "code",
      "metadata": {
        "colab": {
          "base_uri": "https://localhost:8080/"
        },
        "id": "KpxXUb0avV7g",
        "outputId": "6e11d153-5f76-4395-aab4-a5b7a7fcca69"
      },
      "source": [
        "telefoni = {'mario': '02643957396', 'ugo': '10294573964', 'paolo': ['10294539657', 39127559397]}\n",
        "telefoni['paolo']"
      ],
      "execution_count": null,
      "outputs": [
        {
          "output_type": "execute_result",
          "data": {
            "text/plain": [
              "['10294539657', 39127559397]"
            ]
          },
          "metadata": {},
          "execution_count": 4
        }
      ]
    },
    {
      "cell_type": "markdown",
      "metadata": {
        "id": "vFJ4mSYAxRrp"
      },
      "source": [
        "1. Scrivere un programma che crei un dizionario contenente i nomi delle regioni e i nomi dei loro\n",
        "capoluoghi. Il nome della regione deve essere il campo chiave. Chiamare il dizionario\n",
        "capoluoghiRegione\n"
      ]
    },
    {
      "cell_type": "code",
      "metadata": {
        "colab": {
          "base_uri": "https://localhost:8080/",
          "height": 35
        },
        "id": "flMoUvuxxU_4",
        "outputId": "1805d603-7c1e-4395-fdd9-0b339892c242"
      },
      "source": [
        "capoluoghiRegione = {'Abruzzo': 'Aquila','Basilicata': 'Potenza','Calabria': 'Catanzaro','Campania': 'Napoli','Emilia-Romagna': 'Bologna','Friuli-Venezia Giulia': 'Trieste','Lazio': 'Roma','Liguria': 'Genova','Lombardia': 'Milano','Marche': 'Ancona','Molise': 'Campobasso','Piemonte': 'Torino','Puglia': 'Bari','Sardegna': 'Cagliari','Sicilia': 'Palermo','Toscana': 'Firenze','Trentino-Alto Adige': 'Trento','Umbria': 'Perugia','Valle dAosta': 'Aosta','Veneto': 'Venezia'}\n",
        "capoluoghiRegione['Friuli-Venezia Giulia']"
      ],
      "execution_count": 2,
      "outputs": [
        {
          "output_type": "execute_result",
          "data": {
            "application/vnd.google.colaboratory.intrinsic+json": {
              "type": "string"
            },
            "text/plain": [
              "'Trieste'"
            ]
          },
          "metadata": {},
          "execution_count": 2
        }
      ]
    },
    {
      "cell_type": "markdown",
      "metadata": {
        "id": "3PEazrckz5Rf"
      },
      "source": [
        "2. Scrivere un programma che visualizzi tutti i nomi delle regioni presenti in capoluoghiRegione"
      ]
    },
    {
      "cell_type": "code",
      "metadata": {
        "colab": {
          "base_uri": "https://localhost:8080/"
        },
        "id": "2JXxWI610ANO",
        "outputId": "3858524a-e169-4524-b3b7-1f862be4b41e"
      },
      "source": [
        "print( {keys for keys in capoluoghiRegione.keys()})"
      ],
      "execution_count": null,
      "outputs": [
        {
          "output_type": "stream",
          "name": "stdout",
          "text": [
            "{'Basilicata', 'Trentino-Alto Adige', 'Emilia-Romagna', 'Puglia', 'Lazio', 'Marche', 'Lombardia', 'Veneto', 'Piemonte', 'Toscana', 'Molise', 'Valle dAosta', 'Calabria', 'Liguria', 'Campania', 'Sardegna', 'Friuli-Venezia Giulia', 'Sicilia', 'Abruzzo', 'Umbria'}\n"
          ]
        }
      ]
    },
    {
      "cell_type": "markdown",
      "metadata": {
        "id": "x9DEzYgB2TR-"
      },
      "source": [
        "3. Scrivere un programma che visualizzi tutti i nomi dei capoluoghi di regione presenti in\n",
        "capoluoghiRegione"
      ]
    },
    {
      "cell_type": "code",
      "metadata": {
        "colab": {
          "base_uri": "https://localhost:8080/"
        },
        "id": "lTlL8_Fx2Vv2",
        "outputId": "3e26f305-e42c-46d9-fb77-ba381931430e"
      },
      "source": [
        "print( {value for value in capoluoghiRegione.values()})"
      ],
      "execution_count": null,
      "outputs": [
        {
          "output_type": "stream",
          "name": "stdout",
          "text": [
            "{'Bologna', 'Venezia', 'Aosta', 'Catanzaro', 'Firenze', 'Genova', 'Potenza', 'Napoli', 'Torino', 'Palermo', 'Campobasso', 'Trento', 'Aquila', 'Trieste', 'Roma', 'Cagliari', 'Ancona', 'Perugia', 'Bari', 'Milano'}\n"
          ]
        }
      ]
    },
    {
      "cell_type": "markdown",
      "metadata": {
        "id": "5rZV95Wx2vZu"
      },
      "source": [
        "4. Scrivere un programma che acquisisca dall’utente il nome di una regione e fornisca il nome del suo\n",
        "capoluogo."
      ]
    },
    {
      "cell_type": "code",
      "metadata": {
        "colab": {
          "base_uri": "https://localhost:8080/"
        },
        "id": "4Qy9wA-e2xvh",
        "outputId": "8c0f3809-ed84-4638-cc3b-78f6044409bd"
      },
      "source": [
        "regioneinserito = str(input(\"inserire una regione: \" ))\n",
        "print(capoluoghiRegione[regioneinserito])"
      ],
      "execution_count": null,
      "outputs": [
        {
          "output_type": "stream",
          "name": "stdout",
          "text": [
            "inserire una regione: Basilicata\n",
            "Potenza\n"
          ]
        }
      ]
    },
    {
      "cell_type": "markdown",
      "metadata": {
        "id": "_dN6G24i3wHe"
      },
      "source": [
        "5. Scrivere un programma che acquisisca dall’utente il nome di un capoluogo e fornisca il nome della\n",
        "regione a cui appartiene."
      ]
    },
    {
      "cell_type": "code",
      "metadata": {
        "colab": {
          "base_uri": "https://localhost:8080/",
          "height": 246
        },
        "id": "kr_WczI_3y2O",
        "outputId": "dbf53abc-bb62-4f43-a0d7-36f5598e8943"
      },
      "source": [
        "key_list = list(capoluoghiRegione.keys())\n",
        "value_list = list(capoluoghiRegione.values())\n",
        "\n",
        "\n",
        "for i in range(len(capoluoghiRegione)):\n",
        "        if input() in value_list:\n",
        "            print(key_list)\n",
        "            break"
      ],
      "execution_count": 37,
      "outputs": [
        {
          "name": "stdout",
          "output_type": "stream",
          "text": [
            "Napoli\n"
          ]
        },
        {
          "output_type": "error",
          "ename": "ValueError",
          "evalue": "ignored",
          "traceback": [
            "\u001b[0;31m---------------------------------------------------------------------------\u001b[0m",
            "\u001b[0;31mValueError\u001b[0m                                Traceback (most recent call last)",
            "\u001b[0;32m<ipython-input-37-cac07c48d347>\u001b[0m in \u001b[0;36m<module>\u001b[0;34m()\u001b[0m\n\u001b[1;32m      5\u001b[0m \u001b[0;32mfor\u001b[0m \u001b[0mi\u001b[0m \u001b[0;32min\u001b[0m \u001b[0mrange\u001b[0m\u001b[0;34m(\u001b[0m\u001b[0mlen\u001b[0m\u001b[0;34m(\u001b[0m\u001b[0mcapoluoghiRegione\u001b[0m\u001b[0;34m)\u001b[0m\u001b[0;34m)\u001b[0m\u001b[0;34m:\u001b[0m\u001b[0;34m\u001b[0m\u001b[0;34m\u001b[0m\u001b[0m\n\u001b[1;32m      6\u001b[0m         \u001b[0;32mif\u001b[0m \u001b[0minput\u001b[0m\u001b[0;34m(\u001b[0m\u001b[0;34m)\u001b[0m \u001b[0;32min\u001b[0m \u001b[0mvalue_list\u001b[0m\u001b[0;34m:\u001b[0m\u001b[0;34m\u001b[0m\u001b[0;34m\u001b[0m\u001b[0m\n\u001b[0;32m----> 7\u001b[0;31m             \u001b[0mindex\u001b[0m \u001b[0;34m=\u001b[0m \u001b[0mint\u001b[0m\u001b[0;34m(\u001b[0m\u001b[0mvalue_list\u001b[0m\u001b[0;34m.\u001b[0m\u001b[0mindex\u001b[0m\u001b[0;34m(\u001b[0m\u001b[0mi\u001b[0m\u001b[0;34m)\u001b[0m\u001b[0;34m)\u001b[0m\u001b[0;34m\u001b[0m\u001b[0;34m\u001b[0m\u001b[0m\n\u001b[0m\u001b[1;32m      8\u001b[0m             \u001b[0mprint\u001b[0m\u001b[0;34m(\u001b[0m\u001b[0mkey_list\u001b[0m\u001b[0;34m[\u001b[0m\u001b[0mindex\u001b[0m\u001b[0;34m]\u001b[0m\u001b[0;34m)\u001b[0m\u001b[0;34m\u001b[0m\u001b[0;34m\u001b[0m\u001b[0m\n\u001b[1;32m      9\u001b[0m             \u001b[0;32mbreak\u001b[0m\u001b[0;34m\u001b[0m\u001b[0;34m\u001b[0m\u001b[0m\n",
            "\u001b[0;31mValueError\u001b[0m: 0 is not in list"
          ]
        }
      ]
    },
    {
      "cell_type": "code",
      "metadata": {
        "colab": {
          "base_uri": "https://localhost:8080/"
        },
        "id": "Et-P-ka4lFNI",
        "outputId": "ec9e7443-b7eb-4067-ee9a-7cd25abd5e58"
      },
      "source": [
        "key_list = list(capoluoghiRegione.keys())\n",
        "value_list = list(capoluoghiRegione.values())\n",
        "valueelements = capoluoghiRegione.items()\n",
        "\n",
        "#while i < len(capoluoghiRegione):\n",
        "if input() in valueelements:\n",
        "  print(key_list)\n",
        "  #break\n",
        "else:\n",
        "  i += 1"
      ],
      "execution_count": 24,
      "outputs": [
        {
          "name": "stdout",
          "output_type": "stream",
          "text": [
            "Napoli\n"
          ]
        }
      ]
    },
    {
      "cell_type": "markdown",
      "metadata": {
        "id": "VazN9BLs73Ve"
      },
      "source": [
        "6. Scrivere un programma che visualizzi tutte le regioni con i rispettivi capoluoghi"
      ]
    },
    {
      "cell_type": "code",
      "metadata": {
        "id": "FVwGrgLh77q8",
        "colab": {
          "base_uri": "https://localhost:8080/"
        },
        "outputId": "ef57dd04-63e5-4636-9ea5-ea9173efcae8"
      },
      "source": [
        "key_list = list(capoluoghiRegione.keys())\n",
        "value_list = list(capoluoghiRegione.values())\n",
        "\n",
        "for i in range(len(capoluoghiRegione)):\n",
        "  print(key_list[i], value_list[i])"
      ],
      "execution_count": 27,
      "outputs": [
        {
          "output_type": "stream",
          "name": "stdout",
          "text": [
            "Abruzzo Aquila\n",
            "Basilicata Potenza\n",
            "Calabria Catanzaro\n",
            "Campania Napoli\n",
            "Emilia-Romagna Bologna\n",
            "Friuli-Venezia Giulia Trieste\n",
            "Lazio Roma\n",
            "Liguria Genova\n",
            "Lombardia Milano\n",
            "Marche Ancona\n",
            "Molise Campobasso\n",
            "Piemonte Torino\n",
            "Puglia Bari\n",
            "Sardegna Cagliari\n",
            "Sicilia Palermo\n",
            "Toscana Firenze\n",
            "Trentino-Alto Adige Trento\n",
            "Umbria Perugia\n",
            "Valle dAosta Aosta\n",
            "Veneto Venezia\n"
          ]
        }
      ]
    },
    {
      "cell_type": "markdown",
      "metadata": {
        "id": "YxmCrtCC8G9k"
      },
      "source": [
        "7. Scrivere un programma che visualizzi tutte le regioni con i rispettivi capoluoghi. Ordinare le regioni\n",
        "in ordine alfabetico"
      ]
    },
    {
      "cell_type": "code",
      "metadata": {
        "colab": {
          "base_uri": "https://localhost:8080/"
        },
        "id": "V3mrmeGx8MCa",
        "outputId": "474a713f-f7e4-4c28-fcfa-2c63049e4c27"
      },
      "source": [
        "key_list = list(capoluoghiRegione.keys())\n",
        "value_list = list(capoluoghiRegione.values())\n",
        "sortedkey_list = sorted(key_list)\n",
        "\n",
        "for i in range(len(capoluoghiRegione)):\n",
        "  print(sortedkey_list[i], value_list[i])"
      ],
      "execution_count": 30,
      "outputs": [
        {
          "output_type": "stream",
          "name": "stdout",
          "text": [
            "Abruzzo Aquila\n",
            "Basilicata Potenza\n",
            "Calabria Catanzaro\n",
            "Campania Napoli\n",
            "Emilia-Romagna Bologna\n",
            "Friuli-Venezia Giulia Trieste\n",
            "Lazio Roma\n",
            "Liguria Genova\n",
            "Lombardia Milano\n",
            "Marche Ancona\n",
            "Molise Campobasso\n",
            "Piemonte Torino\n",
            "Puglia Bari\n",
            "Sardegna Cagliari\n",
            "Sicilia Palermo\n",
            "Toscana Firenze\n",
            "Trentino-Alto Adige Trento\n",
            "Umbria Perugia\n",
            "Valle dAosta Aosta\n",
            "Veneto Venezia\n"
          ]
        }
      ]
    },
    {
      "cell_type": "markdown",
      "metadata": {
        "id": "IeSWh0Wu991B"
      },
      "source": [
        "8. Scrivere un programma che visualizzi tutte le regioni con i rispettivi capoluoghi. Ordinare i\n",
        "capoluoghi in ordine alfabetico"
      ]
    },
    {
      "cell_type": "code",
      "metadata": {
        "colab": {
          "base_uri": "https://localhost:8080/"
        },
        "id": "Zth02IWp-CkO",
        "outputId": "ad5a52bd-aac9-41d2-d034-df7f18faea96"
      },
      "source": [
        "key_list = list(capoluoghiRegione.keys())\n",
        "value_list = list(capoluoghiRegione.values())\n",
        "sortedvalue_list = sorted(value_list)\n",
        "\n",
        "for i in range(len(capoluoghiRegione)):\n",
        "  print(key_list[i], sortedvalue_list[i])\n",
        "\n",
        "\n",
        "  # MANCA UN PEZZO DI CODICE"
      ],
      "execution_count": 32,
      "outputs": [
        {
          "output_type": "stream",
          "name": "stdout",
          "text": [
            "Abruzzo Ancona\n",
            "Basilicata Aosta\n",
            "Calabria Aquila\n",
            "Campania Bari\n",
            "Emilia-Romagna Bologna\n",
            "Friuli-Venezia Giulia Cagliari\n",
            "Lazio Campobasso\n",
            "Liguria Catanzaro\n",
            "Lombardia Firenze\n",
            "Marche Genova\n",
            "Molise Milano\n",
            "Piemonte Napoli\n",
            "Puglia Palermo\n",
            "Sardegna Perugia\n",
            "Sicilia Potenza\n",
            "Toscana Roma\n",
            "Trentino-Alto Adige Torino\n",
            "Umbria Trento\n",
            "Valle dAosta Trieste\n",
            "Veneto Venezia\n"
          ]
        }
      ]
    },
    {
      "cell_type": "markdown",
      "metadata": {
        "id": "0voI4pWWFZqc"
      },
      "source": [
        "9. Scrivere un programma che carichi in una lista i nomi delle regioni e in un’altra lista i nomi dei\n",
        "rispettivi capoluoghi. Scrivere poi l’istruzione che permette di costruire il dizionario a partire dalle\n",
        "due liste."
      ]
    },
    {
      "cell_type": "code",
      "metadata": {
        "colab": {
          "base_uri": "https://localhost:8080/"
        },
        "id": "Ky72neJoFdWW",
        "outputId": "43c1e504-56c4-46f5-cc44-93bef7ea1c9b"
      },
      "source": [
        "regioni = [\"Abruzzo\",\"Basilicata\",\"Calabria\",\"Campania\",\"Emilia-Romagna\",\"Friuli-Venezia Giulia\",\"Lazio\", \"Liguria\", \"Lombardia\", \"Marche\", \"Molise\",\"Piemonte\",\"Puglia\",\"Sardegna\",\"Sicilia\",\"Toscana\",\"Trentino-Alto Adige\",\"Umbria\",\"Valle dAosta\",\"Veneto\"]\n",
        "capoluoghi = [\"Aquila\",\"Potenza\",\"Catanzaro\",\"Napoli\",\"Bologna\",\"Trieste\",\"Roma\",\"Genova\",\"Milano\",\"Ancona\",\"Campobasso\",\"Torino\",\"Bari\",\"Cagliari\",\"Palermo\",\"Firenze\",\"Trento\",\"Perugia\",\"Aosta\",\"Venezia\"]\n",
        "\n",
        "dictionary = {}\n",
        "\n",
        "for key in regioni:\n",
        "    for value in capoluoghi:\n",
        "        dictionary[key] = value\n",
        "        capoluoghi.remove(value)\n",
        "        break\n",
        "print(str(dictionary))"
      ],
      "execution_count": 35,
      "outputs": [
        {
          "output_type": "stream",
          "name": "stdout",
          "text": [
            "{'Abruzzo': 'Aquila', 'Basilicata': 'Potenza', 'Calabria': 'Catanzaro', 'Campania': 'Napoli', 'Emilia-Romagna': 'Bologna', 'Friuli-Venezia Giulia': 'Trieste', 'Lazio': 'Roma', 'Liguria': 'Genova', 'Lombardia': 'Milano', 'Marche': 'Ancona', 'Molise': 'Campobasso', 'Piemonte': 'Torino', 'Puglia': 'Bari', 'Sardegna': 'Cagliari', 'Sicilia': 'Palermo', 'Toscana': 'Firenze', 'Trentino-Alto Adige': 'Trento', 'Umbria': 'Perugia', 'Valle dAosta': 'Aosta', 'Veneto': 'Venezia'}\n"
          ]
        }
      ]
    }
  ]
}