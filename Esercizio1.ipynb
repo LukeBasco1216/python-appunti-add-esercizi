{
  "nbformat": 4,
  "nbformat_minor": 0,
  "metadata": {
    "colab": {
      "name": "Esercizio1.ipynb",
      "provenance": []
    },
    "kernelspec": {
      "name": "python3",
      "display_name": "Python 3"
    },
    "language_info": {
      "name": "python"
    }
  },
  "cells": [
    {
      "cell_type": "markdown",
      "metadata": {
        "id": "igYjYw97hcHX"
      },
      "source": [
        "a. far inserire all'utente due valori interi"
      ]
    },
    {
      "cell_type": "code",
      "metadata": {
        "colab": {
          "base_uri": "https://localhost:8080/"
        },
        "id": "K9PzYCimhhXV",
        "outputId": "0881d236-a03b-4976-c480-c7bcdd0c4ed7"
      },
      "source": [
        "num1 = int(input(\"inserire il primo numero: \" ))\n",
        "num2 = int(input(\"inserire il secondo numero: \" ))"
      ],
      "execution_count": null,
      "outputs": [
        {
          "name": "stdout",
          "output_type": "stream",
          "text": [
            "inserire il primo numero: 63\n",
            "inserire il secondo numero: 16\n"
          ]
        }
      ]
    },
    {
      "cell_type": "markdown",
      "metadata": {
        "id": "ILP6z6uViPGl"
      },
      "source": [
        "b. effettuare le 4 operazioni aritmetiche tra i due numeri"
      ]
    },
    {
      "cell_type": "code",
      "metadata": {
        "colab": {
          "base_uri": "https://localhost:8080/"
        },
        "id": "Pz1ZnL78iUC8",
        "outputId": "1f23fe06-56cc-4c98-cc57-5bfe7090a102"
      },
      "source": [
        "addition = num1 + num2\n",
        "print(addition)\n",
        "subtraction = num1 - num2\n",
        "print(subtraction)\n",
        "moltiplication = num1 * num2\n",
        "print(moltiplication)\n",
        "division = num1 / num2\n",
        "print(division)"
      ],
      "execution_count": null,
      "outputs": [
        {
          "output_type": "stream",
          "name": "stdout",
          "text": [
            "11\n",
            "5\n",
            "24\n",
            "2.6666666666666665\n"
          ]
        }
      ]
    },
    {
      "cell_type": "markdown",
      "metadata": {
        "id": "N0_3QJ_UjniF"
      },
      "source": [
        "c. effettuare l'elevamento a potenza del primo numero per il secondo"
      ]
    },
    {
      "cell_type": "code",
      "metadata": {
        "colab": {
          "base_uri": "https://localhost:8080/"
        },
        "id": "TAYzT_MqjuWe",
        "outputId": "960f095a-2143-4ee3-ed94-0bfdecd3fee1"
      },
      "source": [
        "power = num1**num2\n",
        "print(power)"
      ],
      "execution_count": null,
      "outputs": [
        {
          "output_type": "stream",
          "name": "stdout",
          "text": [
            "512\n"
          ]
        }
      ]
    },
    {
      "cell_type": "markdown",
      "metadata": {
        "id": "4zXTkNI5kDQt"
      },
      "source": [
        "d. effettuare il calcolo del resto della divisione tra il primo e il secondo numero"
      ]
    },
    {
      "cell_type": "code",
      "metadata": {
        "colab": {
          "base_uri": "https://localhost:8080/"
        },
        "id": "JIiDfwoMkIFj",
        "outputId": "5f12767c-44c1-4d44-d75e-6081af840829"
      },
      "source": [
        "remainder = num1 % num2\n",
        "print(remainder)"
      ],
      "execution_count": null,
      "outputs": [
        {
          "output_type": "stream",
          "name": "stdout",
          "text": [
            "1\n"
          ]
        }
      ]
    },
    {
      "cell_type": "markdown",
      "metadata": {
        "id": "WDsUDGQhlTRE"
      },
      "source": [
        "f. effettuare la divisione intera tra il primo e il secondo numero"
      ]
    },
    {
      "cell_type": "code",
      "metadata": {
        "colab": {
          "base_uri": "https://localhost:8080/"
        },
        "id": "YduCJnt0lWjd",
        "outputId": "911ccdf9-08cf-4970-a02c-7c78ce29f423"
      },
      "source": [
        "divintera = num1 // num2\n",
        "print(divintera)"
      ],
      "execution_count": null,
      "outputs": [
        {
          "output_type": "stream",
          "name": "stdout",
          "text": [
            "3\n"
          ]
        }
      ]
    },
    {
      "cell_type": "markdown",
      "metadata": {
        "id": "CsrUlSXqlzWC"
      },
      "source": [
        "g. incrementare di una unità entrambi i numeri"
      ]
    },
    {
      "cell_type": "code",
      "metadata": {
        "colab": {
          "base_uri": "https://localhost:8080/"
        },
        "id": "TqDUQ609l3jb",
        "outputId": "df60e7cd-0063-4f04-b937-0b6f7b39a53f"
      },
      "source": [
        "num1 +=1 \n",
        "num2 +=1 \n",
        "print(num1)\n",
        "print(num2)"
      ],
      "execution_count": null,
      "outputs": [
        {
          "output_type": "stream",
          "name": "stdout",
          "text": [
            "70\n",
            "23\n"
          ]
        }
      ]
    },
    {
      "cell_type": "markdown",
      "metadata": {
        "id": "YyrKH7RQmKF8"
      },
      "source": [
        "h. far inserie all'utente due valori: il primo rappresenta la sua altezza (in metri) e il secondo rappresenta il suo peso (in kg). Visualizzare poi l'IMC (google it...)"
      ]
    },
    {
      "cell_type": "code",
      "metadata": {
        "colab": {
          "base_uri": "https://localhost:8080/"
        },
        "id": "6_KfTGQdmNeL",
        "outputId": "826454e3-1cf1-440a-87cd-676aad65496a"
      },
      "source": [
        "heightstring = float(input(\"inserire la tua altezza(m): \" ))\n",
        "weightstring = float(input(\"inserire il tuo peso(kg): \" ))\n",
        "IMC = weightstring / heightstring**2\n",
        "print(IMC)\n",
        "\n",
        "\n",
        "\n"
      ],
      "execution_count": 3,
      "outputs": [
        {
          "output_type": "stream",
          "name": "stdout",
          "text": [
            "inserire la tua altezza(m): 1.75\n",
            "inserire il tuo peso(kg): 73\n",
            "23.836734693877553\n"
          ]
        }
      ]
    },
    {
      "cell_type": "markdown",
      "metadata": {
        "id": "lwOfpFB2weQ7"
      },
      "source": [
        "i. arrotondare l'IMC precedente"
      ]
    },
    {
      "cell_type": "code",
      "metadata": {
        "colab": {
          "base_uri": "https://localhost:8080/"
        },
        "id": "9-X25WqxwjgD",
        "outputId": "fdaf2f90-9e1a-407f-8a03-fd806832fd92"
      },
      "source": [
        "print(round(IMC))\n"
      ],
      "execution_count": 4,
      "outputs": [
        {
          "output_type": "stream",
          "name": "stdout",
          "text": [
            "24\n"
          ]
        }
      ]
    },
    {
      "cell_type": "markdown",
      "metadata": {
        "id": "PPvKNp3x3RCs"
      },
      "source": [
        "j. visualizzare il proprio nome, cognome, data di nascita e città di nascita separando le informazioni con un trattino."
      ]
    },
    {
      "cell_type": "code",
      "metadata": {
        "colab": {
          "base_uri": "https://localhost:8080/"
        },
        "id": "70MYJZkM3gjI",
        "outputId": "601eb17e-fc57-4ee1-a029-adedd9fa1604"
      },
      "source": [
        "print(\"Luke - Basco - 12/04/05 - Solano\")\n"
      ],
      "execution_count": 7,
      "outputs": [
        {
          "output_type": "stream",
          "name": "stdout",
          "text": [
            "Luke - Basco - 12/04/05 - Solano\n"
          ]
        }
      ]
    },
    {
      "cell_type": "markdown",
      "metadata": {
        "id": "BjJQhf8G4jh1"
      },
      "source": [
        "k. visualizzare le stesse informazioni per 10 volte di seguito"
      ]
    },
    {
      "cell_type": "code",
      "metadata": {
        "colab": {
          "base_uri": "https://localhost:8080/"
        },
        "id": "6_sUrxNm4orb",
        "outputId": "c2798fe7-b43e-4df2-9ca8-d8229a7bd859"
      },
      "source": [
        "print(\"Luke - Basco - 12/04/05 - Solano\"*10)"
      ],
      "execution_count": 8,
      "outputs": [
        {
          "output_type": "stream",
          "name": "stdout",
          "text": [
            "Luke - Basco - 12/04/05 - SolanoLuke - Basco - 12/04/05 - SolanoLuke - Basco - 12/04/05 - SolanoLuke - Basco - 12/04/05 - SolanoLuke - Basco - 12/04/05 - SolanoLuke - Basco - 12/04/05 - SolanoLuke - Basco - 12/04/05 - SolanoLuke - Basco - 12/04/05 - SolanoLuke - Basco - 12/04/05 - SolanoLuke - Basco - 12/04/05 - Solano\n"
          ]
        }
      ]
    },
    {
      "cell_type": "markdown",
      "metadata": {
        "id": "C3UHfy1b56j3"
      },
      "source": [
        "l. assegnare il proprio nome e cognome ad una stringa e visualizzarla con tutte le lettere maiuscole"
      ]
    },
    {
      "cell_type": "code",
      "metadata": {
        "colab": {
          "base_uri": "https://localhost:8080/"
        },
        "id": "OyoTk2W25-yt",
        "outputId": "fdb9e186-e60c-40fa-9d5b-91f19cb64a02"
      },
      "source": [
        "Name = \"Luke\"\n",
        "Surename = \"Basco\"\n",
        "\n",
        "print(\"%s \"%Name.upper() + '%s'%Surename.upper())"
      ],
      "execution_count": 14,
      "outputs": [
        {
          "output_type": "stream",
          "name": "stdout",
          "text": [
            "LUKE BASCO\n"
          ]
        }
      ]
    },
    {
      "cell_type": "markdown",
      "metadata": {
        "id": "I1I89UMz76qc"
      },
      "source": [
        "m. assegnare il proprio nome e cognome ad una stringa e visualizzarla con le prime lettere maiuscole"
      ]
    },
    {
      "cell_type": "code",
      "metadata": {
        "colab": {
          "base_uri": "https://localhost:8080/"
        },
        "id": "Cgw3S-pk7-vw",
        "outputId": "e6e0abd2-058b-441c-c04e-b7b0c3d21fa4"
      },
      "source": [
        "Name = \"luke\"\n",
        "Surename =\"basco\"\n",
        "\n",
        "print(\"%s \"%Name.title() + \"%s\"%Surename.title())"
      ],
      "execution_count": 16,
      "outputs": [
        {
          "output_type": "stream",
          "name": "stdout",
          "text": [
            "Luke Basco\n"
          ]
        }
      ]
    },
    {
      "cell_type": "markdown",
      "metadata": {
        "id": "XIx4Sgw581qm"
      },
      "source": [
        "n. assegnare il proprio nome e cognome ad una stringa e visualizzarne la lunghezza"
      ]
    },
    {
      "cell_type": "code",
      "metadata": {
        "colab": {
          "base_uri": "https://localhost:8080/"
        },
        "id": "cTPF1He884Qi",
        "outputId": "b0479a4c-3ead-4129-ce2b-c0d2fb49ae25"
      },
      "source": [
        "Name = \"Luke\"\n",
        "Surename = \"Basco\"\n",
        "\n",
        "print(\"the lenght of my name is: \")\n",
        "print(len(Name) + len(Surename))\n",
        "print(\"characters\")"
      ],
      "execution_count": 36,
      "outputs": [
        {
          "output_type": "stream",
          "name": "stdout",
          "text": [
            "the lenght of my name is: \n",
            "9\n",
            "characters\n"
          ]
        }
      ]
    },
    {
      "cell_type": "markdown",
      "metadata": {
        "id": "rkkdyje6_Hfp"
      },
      "source": [
        "o. assegnare il proprio nome e cognome ad una stringa e contate quante vocali contiene"
      ]
    },
    {
      "cell_type": "code",
      "metadata": {
        "colab": {
          "base_uri": "https://localhost:8080/"
        },
        "id": "VO5u5fRl_LKU",
        "outputId": "db02378f-c0d5-4ff5-ebab-e03afa88a574"
      },
      "source": [
        "Name = \"Luke\"\n",
        "Surename = \"Basco\"\n",
        "\n",
        "print(\"the total number of vocals in my name and surename is : \")\n",
        "print(Name.count('u') + Name.count('e') + Surename.count('a') + Surename.count('o') )"
      ],
      "execution_count": 32,
      "outputs": [
        {
          "output_type": "stream",
          "name": "stdout",
          "text": [
            "the total number of vocals in my name and surename is : \n",
            "4\n"
          ]
        }
      ]
    },
    {
      "cell_type": "markdown",
      "metadata": {
        "id": "b_mDbV1VCUMD"
      },
      "source": [
        "p. assegnare il proprio nome e cognome ad una stringa e visualizzare i primi 5 caratteri"
      ]
    },
    {
      "cell_type": "code",
      "metadata": {
        "colab": {
          "base_uri": "https://localhost:8080/"
        },
        "id": "zzmqbWOLCXYv",
        "outputId": "8373bef7-7f04-4194-c8e2-f96409dde654"
      },
      "source": [
        "Name = \"Luke\"\n",
        "Surename = \"Basco\"\n",
        "\n",
        "print(\"the first 5 characters of my name is: \" + Name[0:5])\n",
        "print(\"the first 5 characters of my surename is: \" + Surename[0:5])"
      ],
      "execution_count": 29,
      "outputs": [
        {
          "output_type": "stream",
          "name": "stdout",
          "text": [
            "the first 5 characters of my name is: Luke\n",
            "the first 5 characters of my surename is: Basco\n"
          ]
        }
      ]
    },
    {
      "cell_type": "markdown",
      "metadata": {
        "id": "oMXaGOGtEK8k"
      },
      "source": [
        "q. assegnare il proprio nome e cognome ad una stringa e visualizzare gli ultimi 5 caratteri"
      ]
    },
    {
      "cell_type": "code",
      "metadata": {
        "colab": {
          "base_uri": "https://localhost:8080/"
        },
        "id": "tQaX9KThEMDA",
        "outputId": "4d99b58b-6207-4938-aeb5-ef49041ffc35"
      },
      "source": [
        "Name = \"Luke\"\n",
        "Surename = \"Basco\"\n",
        "\n",
        "print(\"the last 5 characters of my name is: \" + Name[5:10])\n",
        "print(\"the last 5 characters of my surename is: \" + Surename[5:10])"
      ],
      "execution_count": 39,
      "outputs": [
        {
          "output_type": "stream",
          "name": "stdout",
          "text": [
            "the last 5 characters of my name is: \n",
            "the last 5 characters of my surename is: \n"
          ]
        }
      ]
    },
    {
      "cell_type": "markdown",
      "metadata": {
        "id": "vn_ytYP7GaHy"
      },
      "source": [
        "r.. assegnare il proprio nome e cognome ad una stringa e visualizzare i 5 caratteri centrali"
      ]
    },
    {
      "cell_type": "code",
      "metadata": {
        "colab": {
          "base_uri": "https://localhost:8080/"
        },
        "id": "CfDQipbnGc5I",
        "outputId": "c141ff81-b3c2-4f6f-8709-4a84ecd4cba8"
      },
      "source": [
        "Name = \"Luke\"\n",
        "Surename = \"Basco\"\n",
        "\n",
        "print(\"the 5 central characters of my name is: \" + Name[0:5])\n",
        "print(\"the 5 central characters of my surename is: \" + Surename[0:5])"
      ],
      "execution_count": 40,
      "outputs": [
        {
          "output_type": "stream",
          "name": "stdout",
          "text": [
            "the first 5 characters of my name is: Luke\n",
            "the first 5 characters of my surename is: Basco\n"
          ]
        }
      ]
    },
    {
      "cell_type": "markdown",
      "metadata": {
        "id": "MiTA0tW7HhOk"
      },
      "source": [
        "s. assegnare il proprio nome e cognome ad una stringa e sostituire le vocali con una X"
      ]
    },
    {
      "cell_type": "code",
      "metadata": {
        "colab": {
          "base_uri": "https://localhost:8080/"
        },
        "id": "-9lVetzpHj9O",
        "outputId": "94908a33-2537-4e00-9f89-a887e900d09d"
      },
      "source": [
        "Name = \"Luke\"\n",
        "Surename = \"Basco\"\n",
        "\n",
        "NameX = Name.replace('u', 'X')\n",
        "NamewithX = NameX.replace('e', 'X')\n",
        "SurenameX = Surename.replace('a', 'X')\n",
        "SurenamewithX = SurenameX.replace('o', 'X')\n",
        "\n",
        "print(NamewithX + \" \" + SurenamewithX )"
      ],
      "execution_count": 52,
      "outputs": [
        {
          "output_type": "stream",
          "name": "stdout",
          "text": [
            "LXkX BXscX\n"
          ]
        }
      ]
    }
  ]
}