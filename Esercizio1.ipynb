{
  "nbformat": 4,
  "nbformat_minor": 0,
  "metadata": {
    "colab": {
      "name": "Esercizio1.ipynb",
      "provenance": []
    },
    "kernelspec": {
      "name": "python3",
      "display_name": "Python 3"
    },
    "language_info": {
      "name": "python"
    }
  },
  "cells": [
    {
      "cell_type": "markdown",
      "metadata": {
        "id": "igYjYw97hcHX"
      },
      "source": [
        "a. far inserire all'utente due valori interi"
      ]
    },
    {
      "cell_type": "code",
      "metadata": {
        "colab": {
          "base_uri": "https://localhost:8080/"
        },
        "id": "K9PzYCimhhXV",
        "outputId": "0881d236-a03b-4976-c480-c7bcdd0c4ed7"
      },
      "source": [
        "num1 = int(input(\"inserire il primo numero: \" ))\n",
        "num2 = int(input(\"inserire il secondo numero: \" ))"
      ],
      "execution_count": 29,
      "outputs": [
        {
          "name": "stdout",
          "output_type": "stream",
          "text": [
            "inserire il primo numero: 63\n",
            "inserire il secondo numero: 16\n"
          ]
        }
      ]
    },
    {
      "cell_type": "markdown",
      "metadata": {
        "id": "ILP6z6uViPGl"
      },
      "source": [
        "b. effettuare le 4 operazioni aritmetiche tra i due numeri"
      ]
    },
    {
      "cell_type": "code",
      "metadata": {
        "colab": {
          "base_uri": "https://localhost:8080/"
        },
        "id": "Pz1ZnL78iUC8",
        "outputId": "1f23fe06-56cc-4c98-cc57-5bfe7090a102"
      },
      "source": [
        "addition = num1 + num2\n",
        "print(addition)\n",
        "subtraction = num1 - num2\n",
        "print(subtraction)\n",
        "moltiplication = num1 * num2\n",
        "print(moltiplication)\n",
        "division = num1 / num2\n",
        "print(division)"
      ],
      "execution_count": 14,
      "outputs": [
        {
          "output_type": "stream",
          "name": "stdout",
          "text": [
            "11\n",
            "5\n",
            "24\n",
            "2.6666666666666665\n"
          ]
        }
      ]
    },
    {
      "cell_type": "markdown",
      "metadata": {
        "id": "N0_3QJ_UjniF"
      },
      "source": [
        "c. effettuare l'elevamento a potenza del primo numero per il secondo"
      ]
    },
    {
      "cell_type": "code",
      "metadata": {
        "colab": {
          "base_uri": "https://localhost:8080/"
        },
        "id": "TAYzT_MqjuWe",
        "outputId": "960f095a-2143-4ee3-ed94-0bfdecd3fee1"
      },
      "source": [
        "power = num1**num2\n",
        "print(power)"
      ],
      "execution_count": 15,
      "outputs": [
        {
          "output_type": "stream",
          "name": "stdout",
          "text": [
            "512\n"
          ]
        }
      ]
    },
    {
      "cell_type": "markdown",
      "metadata": {
        "id": "4zXTkNI5kDQt"
      },
      "source": [
        "d. effettuare il calcolo del resto della divisione tra il primo e il secondo numero"
      ]
    },
    {
      "cell_type": "code",
      "metadata": {
        "colab": {
          "base_uri": "https://localhost:8080/"
        },
        "id": "JIiDfwoMkIFj",
        "outputId": "5f12767c-44c1-4d44-d75e-6081af840829"
      },
      "source": [
        "remainder = num1 % num2\n",
        "print(remainder)"
      ],
      "execution_count": 27,
      "outputs": [
        {
          "output_type": "stream",
          "name": "stdout",
          "text": [
            "1\n"
          ]
        }
      ]
    },
    {
      "cell_type": "markdown",
      "metadata": {
        "id": "WDsUDGQhlTRE"
      },
      "source": [
        "f. effettuare la divisione intera tra il primo e il secondo numero"
      ]
    },
    {
      "cell_type": "code",
      "metadata": {
        "colab": {
          "base_uri": "https://localhost:8080/"
        },
        "id": "YduCJnt0lWjd",
        "outputId": "911ccdf9-08cf-4970-a02c-7c78ce29f423"
      },
      "source": [
        "divintera = num1 // num2\n",
        "print(divintera)"
      ],
      "execution_count": 30,
      "outputs": [
        {
          "output_type": "stream",
          "name": "stdout",
          "text": [
            "3\n"
          ]
        }
      ]
    },
    {
      "cell_type": "markdown",
      "metadata": {
        "id": "CsrUlSXqlzWC"
      },
      "source": [
        "g. incrementare di una unità entrambi i numeri"
      ]
    },
    {
      "cell_type": "code",
      "metadata": {
        "colab": {
          "base_uri": "https://localhost:8080/"
        },
        "id": "TqDUQ609l3jb",
        "outputId": "df60e7cd-0063-4f04-b937-0b6f7b39a53f"
      },
      "source": [
        "num1 +=1 \n",
        "num2 +=1 \n",
        "print(num1)\n",
        "print(num2)"
      ],
      "execution_count": 44,
      "outputs": [
        {
          "output_type": "stream",
          "name": "stdout",
          "text": [
            "70\n",
            "23\n"
          ]
        }
      ]
    },
    {
      "cell_type": "markdown",
      "metadata": {
        "id": "YyrKH7RQmKF8"
      },
      "source": [
        "h. far inserie all'utente due valori: il primo rappresenta la sua altezza (in metri) e il secondo rappresenta il suo peso (in kg). Visualizzare poi l'IMC (google it...)"
      ]
    },
    {
      "cell_type": "code",
      "metadata": {
        "colab": {
          "base_uri": "https://localhost:8080/"
        },
        "id": "6_KfTGQdmNeL",
        "outputId": "2057b013-6162-476e-ef20-c6a2060048ea"
      },
      "source": [
        "heightstring = float(input(\"inserire la tua altezza(m): \" ))\n",
        "weightstring = float(input(\"inserire il tuo peso(kg): \" ))\n",
        "IMC = weightstring / (heightstring**2)\n",
        "print(IMC)\n",
        "\n"
      ],
      "execution_count": 53,
      "outputs": [
        {
          "output_type": "stream",
          "name": "stdout",
          "text": [
            "inserire la tua altezza(m): 1.75\n",
            "inserire il tuo peso(kg): 73\n",
            "23.836734693877553\n"
          ]
        }
      ]
    },
    {
      "cell_type": "markdown",
      "metadata": {
        "id": "lwOfpFB2weQ7"
      },
      "source": [
        "i. arrotondare l'IMC precedente"
      ]
    },
    {
      "cell_type": "code",
      "metadata": {
        "colab": {
          "base_uri": "https://localhost:8080/"
        },
        "id": "9-X25WqxwjgD",
        "outputId": "b69d0f3b-9b4c-492a-9164-2e4d11e82574"
      },
      "source": [
        "intIMC = int(IMC)\n",
        "roundedIMC = round(intIMC)\n",
        "print()"
      ],
      "execution_count": 56,
      "outputs": [
        {
          "output_type": "stream",
          "name": "stdout",
          "text": [
            "23.836734693877553\n"
          ]
        }
      ]
    }
  ]
}